{
 "cells": [
  {
   "cell_type": "markdown",
   "metadata": {},
   "source": [
    "# Term deposit marketing"
   ]
  },
  {
   "cell_type": "markdown",
   "metadata": {},
   "source": [
    "## Plan"
   ]
  },
  {
   "cell_type": "markdown",
   "metadata": {},
   "source": [
    "## Load dataset"
   ]
  },
  {
   "cell_type": "code",
   "execution_count": null,
   "metadata": {},
   "outputs": [],
   "source": [
    "import toml\n",
    "\n",
    "# Load the configuration file\n",
    "config = toml.load('../config.toml')\n",
    "\n",
    "# Accessing values\n",
    "path_encoded_data = config['paths']['encoded_data']\n",
    "path_raw_data = config['paths']['raw_data']\n",
    "output_dir = config['paths']['output_dir']"
   ]
  },
  {
   "cell_type": "code",
   "execution_count": 49,
   "metadata": {},
   "outputs": [
    {
     "name": "stdout",
     "output_type": "stream",
     "text": [
      "<class 'pandas.core.frame.DataFrame'>\n",
      "RangeIndex: 40000 entries, 0 to 39999\n",
      "Data columns (total 14 columns):\n",
      " #   Column     Non-Null Count  Dtype \n",
      "---  ------     --------------  ----- \n",
      " 0   age        40000 non-null  int64 \n",
      " 1   job        40000 non-null  object\n",
      " 2   marital    40000 non-null  object\n",
      " 3   education  40000 non-null  object\n",
      " 4   default    40000 non-null  object\n",
      " 5   balance    40000 non-null  int64 \n",
      " 6   housing    40000 non-null  object\n",
      " 7   loan       40000 non-null  object\n",
      " 8   contact    40000 non-null  object\n",
      " 9   day        40000 non-null  int64 \n",
      " 10  month      40000 non-null  object\n",
      " 11  duration   40000 non-null  int64 \n",
      " 12  campaign   40000 non-null  int64 \n",
      " 13  y          40000 non-null  object\n",
      "dtypes: int64(5), object(9)\n",
      "memory usage: 4.3+ MB\n"
     ]
    },
    {
     "data": {
      "text/plain": [
       "(None,\n",
       "    age           job  marital  education default  balance housing loan  \\\n",
       " 0   58    management  married   tertiary      no     2143     yes   no   \n",
       " 1   44    technician   single  secondary      no       29     yes   no   \n",
       " 2   33  entrepreneur  married  secondary      no        2     yes  yes   \n",
       " 3   47   blue-collar  married    unknown      no     1506     yes   no   \n",
       " 4   33       unknown   single    unknown      no        1      no   no   \n",
       " \n",
       "    contact  day month  duration  campaign   y  \n",
       " 0  unknown    5   may       261         1  no  \n",
       " 1  unknown    5   may       151         1  no  \n",
       " 2  unknown    5   may        76         1  no  \n",
       " 3  unknown    5   may        92         1  no  \n",
       " 4  unknown    5   may       198         1  no  ,\n",
       "                 age        balance           day      duration      campaign\n",
       " count  40000.000000   40000.000000  40000.000000  40000.000000  40000.000000\n",
       " mean      40.544600    1274.277550     16.017225    254.824300      2.882175\n",
       " std        9.641776    2903.769716      8.278127    259.366498      3.239051\n",
       " min       19.000000   -8019.000000      1.000000      0.000000      1.000000\n",
       " 25%       33.000000      54.000000      8.000000    100.000000      1.000000\n",
       " 50%       39.000000     407.000000     17.000000    175.000000      2.000000\n",
       " 75%       48.000000    1319.000000     21.000000    313.000000      3.000000\n",
       " max       95.000000  102127.000000     31.000000   4918.000000     63.000000)"
      ]
     },
     "execution_count": 49,
     "metadata": {},
     "output_type": "execute_result"
    }
   ],
   "source": [
    "import pandas as pd\n",
    "from IPython.display import display, Markdown\n",
    "\n",
    "\n",
    "# Load the dataset\n",
    "file_path = '../data/term-deposit-marketing-2020.csv'\n",
    "df = pd.read_csv(file_path)\n",
    "\n",
    "# Display basic information about the dataset\n",
    "df.info(), df.head(), df.describe()"
   ]
  },
  {
   "cell_type": "markdown",
   "metadata": {},
   "source": [
    "## Encoding and balancing"
   ]
  },
  {
   "cell_type": "code",
   "execution_count": 58,
   "metadata": {},
   "outputs": [],
   "source": [
    "from sklearn.model_selection import train_test_split\n",
    "from sklearn.preprocessing import StandardScaler, OneHotEncoder\n",
    "from sklearn.compose import ColumnTransformer\n",
    "from sklearn.pipeline import Pipeline\n",
    "from sklearn.impute import SimpleImputer\n",
    "\n",
    "# Separate features and target variable\n",
    "X = df.drop('y', axis=1)\n",
    "y = df['y']\n",
    "\n",
    "# Encode target variable (yes/no to 1/0)\n",
    "y = y.map({'yes': 1, 'no': 0})\n",
    "\n",
    "# Split data into training and test sets\n",
    "X_train, X_test, y_train, y_test = train_test_split(X, y, test_size=0.2, random_state=42)\n",
    "\n",
    "# Identify categorical and numerical columns\n",
    "categorical_cols = X_train.select_dtypes(include=['object']).columns\n",
    "numerical_cols = X_train.select_dtypes(include=['int64', 'float64']).columns\n",
    "\n",
    "# Preprocessing pipeline for numerical data\n",
    "numerical_transformer = Pipeline(steps=[\n",
    "    ('imputer', SimpleImputer(strategy='median')),\n",
    "    ('scaler', StandardScaler())\n",
    "])\n",
    "\n",
    "# Preprocessing pipeline for categorical data\n",
    "categorical_transformer = Pipeline(steps=[\n",
    "    ('imputer', SimpleImputer(strategy='most_frequent')),\n",
    "    ('onehot', OneHotEncoder(handle_unknown='ignore'))\n",
    "])\n",
    "\n",
    "# Combine preprocessing for numerical and categorical data\n",
    "preprocessor = ColumnTransformer(\n",
    "    transformers=[\n",
    "        ('num', numerical_transformer, numerical_cols),\n",
    "        ('cat', categorical_transformer, categorical_cols)\n",
    "    ])\n",
    "\n",
    "df_test_processed = pd.DataFrame(X_test_processed.todense(),\n",
    "             columns=preprocessor.get_feature_names_out())\n",
    "\n",
    "\n",
    "# Apply preprocessing\n",
    "X_processed = preprocessor.fit_transform(X_train)\n",
    "\n",
    "# Split data into training and test sets\n",
    "from imblearn.combine import SMOTETomek\n",
    "\n",
    "# Apply SMOTETomek on the training data\n",
    "smote_tomek = SMOTETomek(random_state=42)\n",
    "X_train_balanced, y_train_balanced = smote_tomek.fit_resample(\n",
    "    X_processed, y_train)\n",
    "\n",
    "df_train_balanced = pd.DataFrame(X_train_balanced.todense(),\n",
    "             columns=preprocessor.get_feature_names_out())"
   ]
  },
  {
   "cell_type": "markdown",
   "metadata": {},
   "source": [
    "## PyCaret"
   ]
  },
  {
   "cell_type": "code",
   "execution_count": 52,
   "metadata": {},
   "outputs": [
    {
     "data": {
      "text/html": [
       "<style type=\"text/css\">\n",
       "#T_79251_row8_col1 {\n",
       "  background-color: lightgreen;\n",
       "}\n",
       "</style>\n",
       "<table id=\"T_79251\">\n",
       "  <thead>\n",
       "    <tr>\n",
       "      <th class=\"blank level0\" >&nbsp;</th>\n",
       "      <th id=\"T_79251_level0_col0\" class=\"col_heading level0 col0\" >Description</th>\n",
       "      <th id=\"T_79251_level0_col1\" class=\"col_heading level0 col1\" >Value</th>\n",
       "    </tr>\n",
       "  </thead>\n",
       "  <tbody>\n",
       "    <tr>\n",
       "      <th id=\"T_79251_level0_row0\" class=\"row_heading level0 row0\" >0</th>\n",
       "      <td id=\"T_79251_row0_col0\" class=\"data row0 col0\" >Session id</td>\n",
       "      <td id=\"T_79251_row0_col1\" class=\"data row0 col1\" >123</td>\n",
       "    </tr>\n",
       "    <tr>\n",
       "      <th id=\"T_79251_level0_row1\" class=\"row_heading level0 row1\" >1</th>\n",
       "      <td id=\"T_79251_row1_col0\" class=\"data row1 col0\" >Target</td>\n",
       "      <td id=\"T_79251_row1_col1\" class=\"data row1 col1\" >y</td>\n",
       "    </tr>\n",
       "    <tr>\n",
       "      <th id=\"T_79251_level0_row2\" class=\"row_heading level0 row2\" >2</th>\n",
       "      <td id=\"T_79251_row2_col0\" class=\"data row2 col0\" >Target type</td>\n",
       "      <td id=\"T_79251_row2_col1\" class=\"data row2 col1\" >Binary</td>\n",
       "    </tr>\n",
       "    <tr>\n",
       "      <th id=\"T_79251_level0_row3\" class=\"row_heading level0 row3\" >3</th>\n",
       "      <td id=\"T_79251_row3_col0\" class=\"data row3 col0\" >Original data shape</td>\n",
       "      <td id=\"T_79251_row3_col1\" class=\"data row3 col1\" >(59314, 45)</td>\n",
       "    </tr>\n",
       "    <tr>\n",
       "      <th id=\"T_79251_level0_row4\" class=\"row_heading level0 row4\" >4</th>\n",
       "      <td id=\"T_79251_row4_col0\" class=\"data row4 col0\" >Transformed data shape</td>\n",
       "      <td id=\"T_79251_row4_col1\" class=\"data row4 col1\" >(59314, 45)</td>\n",
       "    </tr>\n",
       "    <tr>\n",
       "      <th id=\"T_79251_level0_row5\" class=\"row_heading level0 row5\" >5</th>\n",
       "      <td id=\"T_79251_row5_col0\" class=\"data row5 col0\" >Transformed train set shape</td>\n",
       "      <td id=\"T_79251_row5_col1\" class=\"data row5 col1\" >(41519, 45)</td>\n",
       "    </tr>\n",
       "    <tr>\n",
       "      <th id=\"T_79251_level0_row6\" class=\"row_heading level0 row6\" >6</th>\n",
       "      <td id=\"T_79251_row6_col0\" class=\"data row6 col0\" >Transformed test set shape</td>\n",
       "      <td id=\"T_79251_row6_col1\" class=\"data row6 col1\" >(17795, 45)</td>\n",
       "    </tr>\n",
       "    <tr>\n",
       "      <th id=\"T_79251_level0_row7\" class=\"row_heading level0 row7\" >7</th>\n",
       "      <td id=\"T_79251_row7_col0\" class=\"data row7 col0\" >Numeric features</td>\n",
       "      <td id=\"T_79251_row7_col1\" class=\"data row7 col1\" >44</td>\n",
       "    </tr>\n",
       "    <tr>\n",
       "      <th id=\"T_79251_level0_row8\" class=\"row_heading level0 row8\" >8</th>\n",
       "      <td id=\"T_79251_row8_col0\" class=\"data row8 col0\" >Preprocess</td>\n",
       "      <td id=\"T_79251_row8_col1\" class=\"data row8 col1\" >True</td>\n",
       "    </tr>\n",
       "    <tr>\n",
       "      <th id=\"T_79251_level0_row9\" class=\"row_heading level0 row9\" >9</th>\n",
       "      <td id=\"T_79251_row9_col0\" class=\"data row9 col0\" >Imputation type</td>\n",
       "      <td id=\"T_79251_row9_col1\" class=\"data row9 col1\" >simple</td>\n",
       "    </tr>\n",
       "    <tr>\n",
       "      <th id=\"T_79251_level0_row10\" class=\"row_heading level0 row10\" >10</th>\n",
       "      <td id=\"T_79251_row10_col0\" class=\"data row10 col0\" >Numeric imputation</td>\n",
       "      <td id=\"T_79251_row10_col1\" class=\"data row10 col1\" >mean</td>\n",
       "    </tr>\n",
       "    <tr>\n",
       "      <th id=\"T_79251_level0_row11\" class=\"row_heading level0 row11\" >11</th>\n",
       "      <td id=\"T_79251_row11_col0\" class=\"data row11 col0\" >Categorical imputation</td>\n",
       "      <td id=\"T_79251_row11_col1\" class=\"data row11 col1\" >mode</td>\n",
       "    </tr>\n",
       "    <tr>\n",
       "      <th id=\"T_79251_level0_row12\" class=\"row_heading level0 row12\" >12</th>\n",
       "      <td id=\"T_79251_row12_col0\" class=\"data row12 col0\" >Fold Generator</td>\n",
       "      <td id=\"T_79251_row12_col1\" class=\"data row12 col1\" >StratifiedKFold</td>\n",
       "    </tr>\n",
       "    <tr>\n",
       "      <th id=\"T_79251_level0_row13\" class=\"row_heading level0 row13\" >13</th>\n",
       "      <td id=\"T_79251_row13_col0\" class=\"data row13 col0\" >Fold Number</td>\n",
       "      <td id=\"T_79251_row13_col1\" class=\"data row13 col1\" >10</td>\n",
       "    </tr>\n",
       "    <tr>\n",
       "      <th id=\"T_79251_level0_row14\" class=\"row_heading level0 row14\" >14</th>\n",
       "      <td id=\"T_79251_row14_col0\" class=\"data row14 col0\" >CPU Jobs</td>\n",
       "      <td id=\"T_79251_row14_col1\" class=\"data row14 col1\" >-1</td>\n",
       "    </tr>\n",
       "    <tr>\n",
       "      <th id=\"T_79251_level0_row15\" class=\"row_heading level0 row15\" >15</th>\n",
       "      <td id=\"T_79251_row15_col0\" class=\"data row15 col0\" >Use GPU</td>\n",
       "      <td id=\"T_79251_row15_col1\" class=\"data row15 col1\" >False</td>\n",
       "    </tr>\n",
       "    <tr>\n",
       "      <th id=\"T_79251_level0_row16\" class=\"row_heading level0 row16\" >16</th>\n",
       "      <td id=\"T_79251_row16_col0\" class=\"data row16 col0\" >Log Experiment</td>\n",
       "      <td id=\"T_79251_row16_col1\" class=\"data row16 col1\" >False</td>\n",
       "    </tr>\n",
       "    <tr>\n",
       "      <th id=\"T_79251_level0_row17\" class=\"row_heading level0 row17\" >17</th>\n",
       "      <td id=\"T_79251_row17_col0\" class=\"data row17 col0\" >Experiment Name</td>\n",
       "      <td id=\"T_79251_row17_col1\" class=\"data row17 col1\" >clf-default-name</td>\n",
       "    </tr>\n",
       "    <tr>\n",
       "      <th id=\"T_79251_level0_row18\" class=\"row_heading level0 row18\" >18</th>\n",
       "      <td id=\"T_79251_row18_col0\" class=\"data row18 col0\" >USI</td>\n",
       "      <td id=\"T_79251_row18_col1\" class=\"data row18 col1\" >0db5</td>\n",
       "    </tr>\n",
       "  </tbody>\n",
       "</table>\n"
      ],
      "text/plain": [
       "<pandas.io.formats.style.Styler at 0x2170ed26740>"
      ]
     },
     "metadata": {},
     "output_type": "display_data"
    }
   ],
   "source": [
    "from pycaret.classification import *\n",
    "\n",
    "# Initialize PyCaret with the balanced data\n",
    "clf = setup(data=X_train_balanced, target=y_train_balanced,\n",
    "            gpu=True, session_id=123)"
   ]
  },
  {
   "cell_type": "code",
   "execution_count": 53,
   "metadata": {},
   "outputs": [
    {
     "data": {
      "text/html": [],
      "text/plain": [
       "<IPython.core.display.HTML object>"
      ]
     },
     "metadata": {},
     "output_type": "display_data"
    },
    {
     "data": {
      "text/html": [
       "<style type=\"text/css\">\n",
       "#T_6945e th {\n",
       "  text-align: left;\n",
       "}\n",
       "#T_6945e_row0_col0, #T_6945e_row0_col3, #T_6945e_row1_col0, #T_6945e_row1_col1, #T_6945e_row1_col2, #T_6945e_row1_col3, #T_6945e_row1_col4, #T_6945e_row1_col5, #T_6945e_row1_col6, #T_6945e_row1_col7, #T_6945e_row2_col0, #T_6945e_row2_col1, #T_6945e_row2_col2, #T_6945e_row2_col3, #T_6945e_row2_col4, #T_6945e_row2_col5, #T_6945e_row2_col6, #T_6945e_row2_col7, #T_6945e_row3_col0, #T_6945e_row3_col1, #T_6945e_row3_col2, #T_6945e_row3_col3, #T_6945e_row3_col4, #T_6945e_row3_col5, #T_6945e_row3_col6, #T_6945e_row3_col7, #T_6945e_row4_col0, #T_6945e_row4_col1, #T_6945e_row4_col2, #T_6945e_row4_col4, #T_6945e_row4_col5, #T_6945e_row4_col6, #T_6945e_row4_col7, #T_6945e_row5_col0, #T_6945e_row5_col1, #T_6945e_row5_col2, #T_6945e_row5_col3, #T_6945e_row5_col4, #T_6945e_row5_col5, #T_6945e_row5_col6, #T_6945e_row5_col7, #T_6945e_row6_col0, #T_6945e_row6_col1, #T_6945e_row6_col2, #T_6945e_row6_col3, #T_6945e_row6_col4, #T_6945e_row6_col5, #T_6945e_row6_col6, #T_6945e_row6_col7, #T_6945e_row7_col0, #T_6945e_row7_col1, #T_6945e_row7_col2, #T_6945e_row7_col3, #T_6945e_row7_col4, #T_6945e_row7_col5, #T_6945e_row7_col6, #T_6945e_row7_col7, #T_6945e_row8_col0, #T_6945e_row8_col1, #T_6945e_row8_col2, #T_6945e_row8_col3, #T_6945e_row8_col4, #T_6945e_row8_col5, #T_6945e_row8_col6, #T_6945e_row8_col7, #T_6945e_row9_col0, #T_6945e_row9_col1, #T_6945e_row9_col2, #T_6945e_row9_col3, #T_6945e_row9_col4, #T_6945e_row9_col5, #T_6945e_row9_col6, #T_6945e_row9_col7, #T_6945e_row10_col0, #T_6945e_row10_col1, #T_6945e_row10_col2, #T_6945e_row10_col3, #T_6945e_row10_col4, #T_6945e_row10_col5, #T_6945e_row10_col6, #T_6945e_row10_col7, #T_6945e_row11_col0, #T_6945e_row11_col1, #T_6945e_row11_col2, #T_6945e_row11_col3, #T_6945e_row11_col4, #T_6945e_row11_col5, #T_6945e_row11_col6, #T_6945e_row11_col7 {\n",
       "  text-align: left;\n",
       "}\n",
       "#T_6945e_row0_col1, #T_6945e_row0_col2, #T_6945e_row0_col4, #T_6945e_row0_col5, #T_6945e_row0_col6, #T_6945e_row0_col7, #T_6945e_row4_col3 {\n",
       "  text-align: left;\n",
       "  background-color: yellow;\n",
       "}\n",
       "#T_6945e_row0_col8, #T_6945e_row1_col8, #T_6945e_row2_col8, #T_6945e_row3_col8, #T_6945e_row4_col8, #T_6945e_row5_col8, #T_6945e_row6_col8, #T_6945e_row7_col8, #T_6945e_row8_col8, #T_6945e_row9_col8, #T_6945e_row10_col8 {\n",
       "  text-align: left;\n",
       "  background-color: lightgrey;\n",
       "}\n",
       "#T_6945e_row11_col8 {\n",
       "  text-align: left;\n",
       "  background-color: yellow;\n",
       "  background-color: lightgrey;\n",
       "}\n",
       "</style>\n",
       "<table id=\"T_6945e\">\n",
       "  <thead>\n",
       "    <tr>\n",
       "      <th class=\"blank level0\" >&nbsp;</th>\n",
       "      <th id=\"T_6945e_level0_col0\" class=\"col_heading level0 col0\" >Model</th>\n",
       "      <th id=\"T_6945e_level0_col1\" class=\"col_heading level0 col1\" >Accuracy</th>\n",
       "      <th id=\"T_6945e_level0_col2\" class=\"col_heading level0 col2\" >AUC</th>\n",
       "      <th id=\"T_6945e_level0_col3\" class=\"col_heading level0 col3\" >Recall</th>\n",
       "      <th id=\"T_6945e_level0_col4\" class=\"col_heading level0 col4\" >Prec.</th>\n",
       "      <th id=\"T_6945e_level0_col5\" class=\"col_heading level0 col5\" >F1</th>\n",
       "      <th id=\"T_6945e_level0_col6\" class=\"col_heading level0 col6\" >Kappa</th>\n",
       "      <th id=\"T_6945e_level0_col7\" class=\"col_heading level0 col7\" >MCC</th>\n",
       "      <th id=\"T_6945e_level0_col8\" class=\"col_heading level0 col8\" >TT (Sec)</th>\n",
       "    </tr>\n",
       "  </thead>\n",
       "  <tbody>\n",
       "    <tr>\n",
       "      <th id=\"T_6945e_level0_row0\" class=\"row_heading level0 row0\" >et</th>\n",
       "      <td id=\"T_6945e_row0_col0\" class=\"data row0 col0\" >Extra Trees Classifier</td>\n",
       "      <td id=\"T_6945e_row0_col1\" class=\"data row0 col1\" >0.9757</td>\n",
       "      <td id=\"T_6945e_row0_col2\" class=\"data row0 col2\" >0.9979</td>\n",
       "      <td id=\"T_6945e_row0_col3\" class=\"data row0 col3\" >0.9892</td>\n",
       "      <td id=\"T_6945e_row0_col4\" class=\"data row0 col4\" >0.9633</td>\n",
       "      <td id=\"T_6945e_row0_col5\" class=\"data row0 col5\" >0.9761</td>\n",
       "      <td id=\"T_6945e_row0_col6\" class=\"data row0 col6\" >0.9515</td>\n",
       "      <td id=\"T_6945e_row0_col7\" class=\"data row0 col7\" >0.9518</td>\n",
       "      <td id=\"T_6945e_row0_col8\" class=\"data row0 col8\" >6.1270</td>\n",
       "    </tr>\n",
       "    <tr>\n",
       "      <th id=\"T_6945e_level0_row1\" class=\"row_heading level0 row1\" >rf</th>\n",
       "      <td id=\"T_6945e_row1_col0\" class=\"data row1 col0\" >Random Forest Classifier</td>\n",
       "      <td id=\"T_6945e_row1_col1\" class=\"data row1 col1\" >0.9683</td>\n",
       "      <td id=\"T_6945e_row1_col2\" class=\"data row1 col2\" >0.9966</td>\n",
       "      <td id=\"T_6945e_row1_col3\" class=\"data row1 col3\" >0.9847</td>\n",
       "      <td id=\"T_6945e_row1_col4\" class=\"data row1 col4\" >0.9534</td>\n",
       "      <td id=\"T_6945e_row1_col5\" class=\"data row1 col5\" >0.9688</td>\n",
       "      <td id=\"T_6945e_row1_col6\" class=\"data row1 col6\" >0.9366</td>\n",
       "      <td id=\"T_6945e_row1_col7\" class=\"data row1 col7\" >0.9371</td>\n",
       "      <td id=\"T_6945e_row1_col8\" class=\"data row1 col8\" >3.5510</td>\n",
       "    </tr>\n",
       "    <tr>\n",
       "      <th id=\"T_6945e_level0_row2\" class=\"row_heading level0 row2\" >xgboost</th>\n",
       "      <td id=\"T_6945e_row2_col0\" class=\"data row2 col0\" >Extreme Gradient Boosting</td>\n",
       "      <td id=\"T_6945e_row2_col1\" class=\"data row2 col1\" >0.9644</td>\n",
       "      <td id=\"T_6945e_row2_col2\" class=\"data row2 col2\" >0.9958</td>\n",
       "      <td id=\"T_6945e_row2_col3\" class=\"data row2 col3\" >0.9670</td>\n",
       "      <td id=\"T_6945e_row2_col4\" class=\"data row2 col4\" >0.9620</td>\n",
       "      <td id=\"T_6945e_row2_col5\" class=\"data row2 col5\" >0.9645</td>\n",
       "      <td id=\"T_6945e_row2_col6\" class=\"data row2 col6\" >0.9288</td>\n",
       "      <td id=\"T_6945e_row2_col7\" class=\"data row2 col7\" >0.9288</td>\n",
       "      <td id=\"T_6945e_row2_col8\" class=\"data row2 col8\" >0.4870</td>\n",
       "    </tr>\n",
       "    <tr>\n",
       "      <th id=\"T_6945e_level0_row3\" class=\"row_heading level0 row3\" >lightgbm</th>\n",
       "      <td id=\"T_6945e_row3_col0\" class=\"data row3 col0\" >Light Gradient Boosting Machine</td>\n",
       "      <td id=\"T_6945e_row3_col1\" class=\"data row3 col1\" >0.9606</td>\n",
       "      <td id=\"T_6945e_row3_col2\" class=\"data row3 col2\" >0.9953</td>\n",
       "      <td id=\"T_6945e_row3_col3\" class=\"data row3 col3\" >0.9689</td>\n",
       "      <td id=\"T_6945e_row3_col4\" class=\"data row3 col4\" >0.9531</td>\n",
       "      <td id=\"T_6945e_row3_col5\" class=\"data row3 col5\" >0.9610</td>\n",
       "      <td id=\"T_6945e_row3_col6\" class=\"data row3 col6\" >0.9212</td>\n",
       "      <td id=\"T_6945e_row3_col7\" class=\"data row3 col7\" >0.9214</td>\n",
       "      <td id=\"T_6945e_row3_col8\" class=\"data row3 col8\" >0.6870</td>\n",
       "    </tr>\n",
       "    <tr>\n",
       "      <th id=\"T_6945e_level0_row4\" class=\"row_heading level0 row4\" >knn</th>\n",
       "      <td id=\"T_6945e_row4_col0\" class=\"data row4 col0\" >K Neighbors Classifier</td>\n",
       "      <td id=\"T_6945e_row4_col1\" class=\"data row4 col1\" >0.9383</td>\n",
       "      <td id=\"T_6945e_row4_col2\" class=\"data row4 col2\" >0.9750</td>\n",
       "      <td id=\"T_6945e_row4_col3\" class=\"data row4 col3\" >0.9979</td>\n",
       "      <td id=\"T_6945e_row4_col4\" class=\"data row4 col4\" >0.8917</td>\n",
       "      <td id=\"T_6945e_row4_col5\" class=\"data row4 col5\" >0.9418</td>\n",
       "      <td id=\"T_6945e_row4_col6\" class=\"data row4 col6\" >0.8766</td>\n",
       "      <td id=\"T_6945e_row4_col7\" class=\"data row4 col7\" >0.8829</td>\n",
       "      <td id=\"T_6945e_row4_col8\" class=\"data row4 col8\" >5.7300</td>\n",
       "    </tr>\n",
       "    <tr>\n",
       "      <th id=\"T_6945e_level0_row5\" class=\"row_heading level0 row5\" >dt</th>\n",
       "      <td id=\"T_6945e_row5_col0\" class=\"data row5 col0\" >Decision Tree Classifier</td>\n",
       "      <td id=\"T_6945e_row5_col1\" class=\"data row5 col1\" >0.9375</td>\n",
       "      <td id=\"T_6945e_row5_col2\" class=\"data row5 col2\" >0.9375</td>\n",
       "      <td id=\"T_6945e_row5_col3\" class=\"data row5 col3\" >0.9459</td>\n",
       "      <td id=\"T_6945e_row5_col4\" class=\"data row5 col4\" >0.9303</td>\n",
       "      <td id=\"T_6945e_row5_col5\" class=\"data row5 col5\" >0.9380</td>\n",
       "      <td id=\"T_6945e_row5_col6\" class=\"data row5 col6\" >0.8750</td>\n",
       "      <td id=\"T_6945e_row5_col7\" class=\"data row5 col7\" >0.8751</td>\n",
       "      <td id=\"T_6945e_row5_col8\" class=\"data row5 col8\" >0.3090</td>\n",
       "    </tr>\n",
       "    <tr>\n",
       "      <th id=\"T_6945e_level0_row6\" class=\"row_heading level0 row6\" >gbc</th>\n",
       "      <td id=\"T_6945e_row6_col0\" class=\"data row6 col0\" >Gradient Boosting Classifier</td>\n",
       "      <td id=\"T_6945e_row6_col1\" class=\"data row6 col1\" >0.9326</td>\n",
       "      <td id=\"T_6945e_row6_col2\" class=\"data row6 col2\" >0.9829</td>\n",
       "      <td id=\"T_6945e_row6_col3\" class=\"data row6 col3\" >0.9559</td>\n",
       "      <td id=\"T_6945e_row6_col4\" class=\"data row6 col4\" >0.9135</td>\n",
       "      <td id=\"T_6945e_row6_col5\" class=\"data row6 col5\" >0.9342</td>\n",
       "      <td id=\"T_6945e_row6_col6\" class=\"data row6 col6\" >0.8653</td>\n",
       "      <td id=\"T_6945e_row6_col7\" class=\"data row6 col7\" >0.8662</td>\n",
       "      <td id=\"T_6945e_row6_col8\" class=\"data row6 col8\" >1.6760</td>\n",
       "    </tr>\n",
       "    <tr>\n",
       "      <th id=\"T_6945e_level0_row7\" class=\"row_heading level0 row7\" >ada</th>\n",
       "      <td id=\"T_6945e_row7_col0\" class=\"data row7 col0\" >Ada Boost Classifier</td>\n",
       "      <td id=\"T_6945e_row7_col1\" class=\"data row7 col1\" >0.9113</td>\n",
       "      <td id=\"T_6945e_row7_col2\" class=\"data row7 col2\" >0.9690</td>\n",
       "      <td id=\"T_6945e_row7_col3\" class=\"data row7 col3\" >0.9183</td>\n",
       "      <td id=\"T_6945e_row7_col4\" class=\"data row7 col4\" >0.9056</td>\n",
       "      <td id=\"T_6945e_row7_col5\" class=\"data row7 col5\" >0.9119</td>\n",
       "      <td id=\"T_6945e_row7_col6\" class=\"data row7 col6\" >0.8225</td>\n",
       "      <td id=\"T_6945e_row7_col7\" class=\"data row7 col7\" >0.8227</td>\n",
       "      <td id=\"T_6945e_row7_col8\" class=\"data row7 col8\" >0.6390</td>\n",
       "    </tr>\n",
       "    <tr>\n",
       "      <th id=\"T_6945e_level0_row8\" class=\"row_heading level0 row8\" >lr</th>\n",
       "      <td id=\"T_6945e_row8_col0\" class=\"data row8 col0\" >Logistic Regression</td>\n",
       "      <td id=\"T_6945e_row8_col1\" class=\"data row8 col1\" >0.8802</td>\n",
       "      <td id=\"T_6945e_row8_col2\" class=\"data row8 col2\" >0.9395</td>\n",
       "      <td id=\"T_6945e_row8_col3\" class=\"data row8 col3\" >0.8894</td>\n",
       "      <td id=\"T_6945e_row8_col4\" class=\"data row8 col4\" >0.8733</td>\n",
       "      <td id=\"T_6945e_row8_col5\" class=\"data row8 col5\" >0.8813</td>\n",
       "      <td id=\"T_6945e_row8_col6\" class=\"data row8 col6\" >0.7604</td>\n",
       "      <td id=\"T_6945e_row8_col7\" class=\"data row8 col7\" >0.7605</td>\n",
       "      <td id=\"T_6945e_row8_col8\" class=\"data row8 col8\" >2.2510</td>\n",
       "    </tr>\n",
       "    <tr>\n",
       "      <th id=\"T_6945e_level0_row9\" class=\"row_heading level0 row9\" >svm</th>\n",
       "      <td id=\"T_6945e_row9_col0\" class=\"data row9 col0\" >SVM - Linear Kernel</td>\n",
       "      <td id=\"T_6945e_row9_col1\" class=\"data row9 col1\" >0.8794</td>\n",
       "      <td id=\"T_6945e_row9_col2\" class=\"data row9 col2\" >0.9375</td>\n",
       "      <td id=\"T_6945e_row9_col3\" class=\"data row9 col3\" >0.9028</td>\n",
       "      <td id=\"T_6945e_row9_col4\" class=\"data row9 col4\" >0.8627</td>\n",
       "      <td id=\"T_6945e_row9_col5\" class=\"data row9 col5\" >0.8821</td>\n",
       "      <td id=\"T_6945e_row9_col6\" class=\"data row9 col6\" >0.7587</td>\n",
       "      <td id=\"T_6945e_row9_col7\" class=\"data row9 col7\" >0.7600</td>\n",
       "      <td id=\"T_6945e_row9_col8\" class=\"data row9 col8\" >0.1250</td>\n",
       "    </tr>\n",
       "    <tr>\n",
       "      <th id=\"T_6945e_level0_row10\" class=\"row_heading level0 row10\" >ridge</th>\n",
       "      <td id=\"T_6945e_row10_col0\" class=\"data row10 col0\" >Ridge Classifier</td>\n",
       "      <td id=\"T_6945e_row10_col1\" class=\"data row10 col1\" >0.8660</td>\n",
       "      <td id=\"T_6945e_row10_col2\" class=\"data row10 col2\" >0.9338</td>\n",
       "      <td id=\"T_6945e_row10_col3\" class=\"data row10 col3\" >0.8518</td>\n",
       "      <td id=\"T_6945e_row10_col4\" class=\"data row10 col4\" >0.8767</td>\n",
       "      <td id=\"T_6945e_row10_col5\" class=\"data row10 col5\" >0.8641</td>\n",
       "      <td id=\"T_6945e_row10_col6\" class=\"data row10 col6\" >0.7320</td>\n",
       "      <td id=\"T_6945e_row10_col7\" class=\"data row10 col7\" >0.7323</td>\n",
       "      <td id=\"T_6945e_row10_col8\" class=\"data row10 col8\" >0.1320</td>\n",
       "    </tr>\n",
       "    <tr>\n",
       "      <th id=\"T_6945e_level0_row11\" class=\"row_heading level0 row11\" >dummy</th>\n",
       "      <td id=\"T_6945e_row11_col0\" class=\"data row11 col0\" >Dummy Classifier</td>\n",
       "      <td id=\"T_6945e_row11_col1\" class=\"data row11 col1\" >0.5000</td>\n",
       "      <td id=\"T_6945e_row11_col2\" class=\"data row11 col2\" >0.5000</td>\n",
       "      <td id=\"T_6945e_row11_col3\" class=\"data row11 col3\" >0.9000</td>\n",
       "      <td id=\"T_6945e_row11_col4\" class=\"data row11 col4\" >0.4500</td>\n",
       "      <td id=\"T_6945e_row11_col5\" class=\"data row11 col5\" >0.6000</td>\n",
       "      <td id=\"T_6945e_row11_col6\" class=\"data row11 col6\" >0.0000</td>\n",
       "      <td id=\"T_6945e_row11_col7\" class=\"data row11 col7\" >0.0000</td>\n",
       "      <td id=\"T_6945e_row11_col8\" class=\"data row11 col8\" >0.0630</td>\n",
       "    </tr>\n",
       "  </tbody>\n",
       "</table>\n"
      ],
      "text/plain": [
       "<pandas.io.formats.style.Styler at 0x2170f2a7dc0>"
      ]
     },
     "metadata": {},
     "output_type": "display_data"
    },
    {
     "data": {
      "text/html": [],
      "text/plain": [
       "<IPython.core.display.HTML object>"
      ]
     },
     "metadata": {},
     "output_type": "display_data"
    }
   ],
   "source": [
    "best_model = compare_models()"
   ]
  },
  {
   "cell_type": "code",
   "execution_count": 54,
   "metadata": {},
   "outputs": [
    {
     "data": {
      "text/html": [],
      "text/plain": [
       "<IPython.core.display.HTML object>"
      ]
     },
     "metadata": {},
     "output_type": "display_data"
    },
    {
     "data": {
      "text/html": [
       "<style type=\"text/css\">\n",
       "#T_b9d3d_row10_col0, #T_b9d3d_row10_col1, #T_b9d3d_row10_col2, #T_b9d3d_row10_col3, #T_b9d3d_row10_col4, #T_b9d3d_row10_col5, #T_b9d3d_row10_col6 {\n",
       "  background: yellow;\n",
       "}\n",
       "</style>\n",
       "<table id=\"T_b9d3d\">\n",
       "  <thead>\n",
       "    <tr>\n",
       "      <th class=\"blank level0\" >&nbsp;</th>\n",
       "      <th id=\"T_b9d3d_level0_col0\" class=\"col_heading level0 col0\" >Accuracy</th>\n",
       "      <th id=\"T_b9d3d_level0_col1\" class=\"col_heading level0 col1\" >AUC</th>\n",
       "      <th id=\"T_b9d3d_level0_col2\" class=\"col_heading level0 col2\" >Recall</th>\n",
       "      <th id=\"T_b9d3d_level0_col3\" class=\"col_heading level0 col3\" >Prec.</th>\n",
       "      <th id=\"T_b9d3d_level0_col4\" class=\"col_heading level0 col4\" >F1</th>\n",
       "      <th id=\"T_b9d3d_level0_col5\" class=\"col_heading level0 col5\" >Kappa</th>\n",
       "      <th id=\"T_b9d3d_level0_col6\" class=\"col_heading level0 col6\" >MCC</th>\n",
       "    </tr>\n",
       "    <tr>\n",
       "      <th class=\"index_name level0\" >Fold</th>\n",
       "      <th class=\"blank col0\" >&nbsp;</th>\n",
       "      <th class=\"blank col1\" >&nbsp;</th>\n",
       "      <th class=\"blank col2\" >&nbsp;</th>\n",
       "      <th class=\"blank col3\" >&nbsp;</th>\n",
       "      <th class=\"blank col4\" >&nbsp;</th>\n",
       "      <th class=\"blank col5\" >&nbsp;</th>\n",
       "      <th class=\"blank col6\" >&nbsp;</th>\n",
       "    </tr>\n",
       "  </thead>\n",
       "  <tbody>\n",
       "    <tr>\n",
       "      <th id=\"T_b9d3d_level0_row0\" class=\"row_heading level0 row0\" >0</th>\n",
       "      <td id=\"T_b9d3d_row0_col0\" class=\"data row0 col0\" >0.8882</td>\n",
       "      <td id=\"T_b9d3d_row0_col1\" class=\"data row0 col1\" >0.9552</td>\n",
       "      <td id=\"T_b9d3d_row0_col2\" class=\"data row0 col2\" >0.8988</td>\n",
       "      <td id=\"T_b9d3d_row0_col3\" class=\"data row0 col3\" >0.8802</td>\n",
       "      <td id=\"T_b9d3d_row0_col4\" class=\"data row0 col4\" >0.8894</td>\n",
       "      <td id=\"T_b9d3d_row0_col5\" class=\"data row0 col5\" >0.7765</td>\n",
       "      <td id=\"T_b9d3d_row0_col6\" class=\"data row0 col6\" >0.7767</td>\n",
       "    </tr>\n",
       "    <tr>\n",
       "      <th id=\"T_b9d3d_level0_row1\" class=\"row_heading level0 row1\" >1</th>\n",
       "      <td id=\"T_b9d3d_row1_col0\" class=\"data row1 col0\" >0.8964</td>\n",
       "      <td id=\"T_b9d3d_row1_col1\" class=\"data row1 col1\" >0.9613</td>\n",
       "      <td id=\"T_b9d3d_row1_col2\" class=\"data row1 col2\" >0.9080</td>\n",
       "      <td id=\"T_b9d3d_row1_col3\" class=\"data row1 col3\" >0.8875</td>\n",
       "      <td id=\"T_b9d3d_row1_col4\" class=\"data row1 col4\" >0.8976</td>\n",
       "      <td id=\"T_b9d3d_row1_col5\" class=\"data row1 col5\" >0.7929</td>\n",
       "      <td id=\"T_b9d3d_row1_col6\" class=\"data row1 col6\" >0.7931</td>\n",
       "    </tr>\n",
       "    <tr>\n",
       "      <th id=\"T_b9d3d_level0_row2\" class=\"row_heading level0 row2\" >2</th>\n",
       "      <td id=\"T_b9d3d_row2_col0\" class=\"data row2 col0\" >0.8885</td>\n",
       "      <td id=\"T_b9d3d_row2_col1\" class=\"data row2 col1\" >0.9530</td>\n",
       "      <td id=\"T_b9d3d_row2_col2\" class=\"data row2 col2\" >0.9070</td>\n",
       "      <td id=\"T_b9d3d_row2_col3\" class=\"data row2 col3\" >0.8746</td>\n",
       "      <td id=\"T_b9d3d_row2_col4\" class=\"data row2 col4\" >0.8905</td>\n",
       "      <td id=\"T_b9d3d_row2_col5\" class=\"data row2 col5\" >0.7770</td>\n",
       "      <td id=\"T_b9d3d_row2_col6\" class=\"data row2 col6\" >0.7775</td>\n",
       "    </tr>\n",
       "    <tr>\n",
       "      <th id=\"T_b9d3d_level0_row3\" class=\"row_heading level0 row3\" >3</th>\n",
       "      <td id=\"T_b9d3d_row3_col0\" class=\"data row3 col0\" >0.8902</td>\n",
       "      <td id=\"T_b9d3d_row3_col1\" class=\"data row3 col1\" >0.9535</td>\n",
       "      <td id=\"T_b9d3d_row3_col2\" class=\"data row3 col2\" >0.9056</td>\n",
       "      <td id=\"T_b9d3d_row3_col3\" class=\"data row3 col3\" >0.8785</td>\n",
       "      <td id=\"T_b9d3d_row3_col4\" class=\"data row3 col4\" >0.8918</td>\n",
       "      <td id=\"T_b9d3d_row3_col5\" class=\"data row3 col5\" >0.7803</td>\n",
       "      <td id=\"T_b9d3d_row3_col6\" class=\"data row3 col6\" >0.7807</td>\n",
       "    </tr>\n",
       "    <tr>\n",
       "      <th id=\"T_b9d3d_level0_row4\" class=\"row_heading level0 row4\" >4</th>\n",
       "      <td id=\"T_b9d3d_row4_col0\" class=\"data row4 col0\" >0.8815</td>\n",
       "      <td id=\"T_b9d3d_row4_col1\" class=\"data row4 col1\" >0.9472</td>\n",
       "      <td id=\"T_b9d3d_row4_col2\" class=\"data row4 col2\" >0.8940</td>\n",
       "      <td id=\"T_b9d3d_row4_col3\" class=\"data row4 col3\" >0.8722</td>\n",
       "      <td id=\"T_b9d3d_row4_col4\" class=\"data row4 col4\" >0.8830</td>\n",
       "      <td id=\"T_b9d3d_row4_col5\" class=\"data row4 col5\" >0.7630</td>\n",
       "      <td id=\"T_b9d3d_row4_col6\" class=\"data row4 col6\" >0.7632</td>\n",
       "    </tr>\n",
       "    <tr>\n",
       "      <th id=\"T_b9d3d_level0_row5\" class=\"row_heading level0 row5\" >5</th>\n",
       "      <td id=\"T_b9d3d_row5_col0\" class=\"data row5 col0\" >0.8919</td>\n",
       "      <td id=\"T_b9d3d_row5_col1\" class=\"data row5 col1\" >0.9564</td>\n",
       "      <td id=\"T_b9d3d_row5_col2\" class=\"data row5 col2\" >0.8945</td>\n",
       "      <td id=\"T_b9d3d_row5_col3\" class=\"data row5 col3\" >0.8898</td>\n",
       "      <td id=\"T_b9d3d_row5_col4\" class=\"data row5 col4\" >0.8921</td>\n",
       "      <td id=\"T_b9d3d_row5_col5\" class=\"data row5 col5\" >0.7837</td>\n",
       "      <td id=\"T_b9d3d_row5_col6\" class=\"data row5 col6\" >0.7837</td>\n",
       "    </tr>\n",
       "    <tr>\n",
       "      <th id=\"T_b9d3d_level0_row6\" class=\"row_heading level0 row6\" >6</th>\n",
       "      <td id=\"T_b9d3d_row6_col0\" class=\"data row6 col0\" >0.8772</td>\n",
       "      <td id=\"T_b9d3d_row6_col1\" class=\"data row6 col1\" >0.9495</td>\n",
       "      <td id=\"T_b9d3d_row6_col2\" class=\"data row6 col2\" >0.8984</td>\n",
       "      <td id=\"T_b9d3d_row6_col3\" class=\"data row6 col3\" >0.8618</td>\n",
       "      <td id=\"T_b9d3d_row6_col4\" class=\"data row6 col4\" >0.8797</td>\n",
       "      <td id=\"T_b9d3d_row6_col5\" class=\"data row6 col5\" >0.7543</td>\n",
       "      <td id=\"T_b9d3d_row6_col6\" class=\"data row6 col6\" >0.7550</td>\n",
       "    </tr>\n",
       "    <tr>\n",
       "      <th id=\"T_b9d3d_level0_row7\" class=\"row_heading level0 row7\" >7</th>\n",
       "      <td id=\"T_b9d3d_row7_col0\" class=\"data row7 col0\" >0.8825</td>\n",
       "      <td id=\"T_b9d3d_row7_col1\" class=\"data row7 col1\" >0.9452</td>\n",
       "      <td id=\"T_b9d3d_row7_col2\" class=\"data row7 col2\" >0.8998</td>\n",
       "      <td id=\"T_b9d3d_row7_col3\" class=\"data row7 col3\" >0.8696</td>\n",
       "      <td id=\"T_b9d3d_row7_col4\" class=\"data row7 col4\" >0.8845</td>\n",
       "      <td id=\"T_b9d3d_row7_col5\" class=\"data row7 col5\" >0.7649</td>\n",
       "      <td id=\"T_b9d3d_row7_col6\" class=\"data row7 col6\" >0.7654</td>\n",
       "    </tr>\n",
       "    <tr>\n",
       "      <th id=\"T_b9d3d_level0_row8\" class=\"row_heading level0 row8\" >8</th>\n",
       "      <td id=\"T_b9d3d_row8_col0\" class=\"data row8 col0\" >0.8846</td>\n",
       "      <td id=\"T_b9d3d_row8_col1\" class=\"data row8 col1\" >0.9509</td>\n",
       "      <td id=\"T_b9d3d_row8_col2\" class=\"data row8 col2\" >0.8984</td>\n",
       "      <td id=\"T_b9d3d_row8_col3\" class=\"data row8 col3\" >0.8744</td>\n",
       "      <td id=\"T_b9d3d_row8_col4\" class=\"data row8 col4\" >0.8862</td>\n",
       "      <td id=\"T_b9d3d_row8_col5\" class=\"data row8 col5\" >0.7693</td>\n",
       "      <td id=\"T_b9d3d_row8_col6\" class=\"data row8 col6\" >0.7696</td>\n",
       "    </tr>\n",
       "    <tr>\n",
       "      <th id=\"T_b9d3d_level0_row9\" class=\"row_heading level0 row9\" >9</th>\n",
       "      <td id=\"T_b9d3d_row9_col0\" class=\"data row9 col0\" >0.8836</td>\n",
       "      <td id=\"T_b9d3d_row9_col1\" class=\"data row9 col1\" >0.9518</td>\n",
       "      <td id=\"T_b9d3d_row9_col2\" class=\"data row9 col2\" >0.8931</td>\n",
       "      <td id=\"T_b9d3d_row9_col3\" class=\"data row9 col3\" >0.8766</td>\n",
       "      <td id=\"T_b9d3d_row9_col4\" class=\"data row9 col4\" >0.8848</td>\n",
       "      <td id=\"T_b9d3d_row9_col5\" class=\"data row9 col5\" >0.7673</td>\n",
       "      <td id=\"T_b9d3d_row9_col6\" class=\"data row9 col6\" >0.7674</td>\n",
       "    </tr>\n",
       "    <tr>\n",
       "      <th id=\"T_b9d3d_level0_row10\" class=\"row_heading level0 row10\" >Mean</th>\n",
       "      <td id=\"T_b9d3d_row10_col0\" class=\"data row10 col0\" >0.8865</td>\n",
       "      <td id=\"T_b9d3d_row10_col1\" class=\"data row10 col1\" >0.9524</td>\n",
       "      <td id=\"T_b9d3d_row10_col2\" class=\"data row10 col2\" >0.8998</td>\n",
       "      <td id=\"T_b9d3d_row10_col3\" class=\"data row10 col3\" >0.8765</td>\n",
       "      <td id=\"T_b9d3d_row10_col4\" class=\"data row10 col4\" >0.8880</td>\n",
       "      <td id=\"T_b9d3d_row10_col5\" class=\"data row10 col5\" >0.7729</td>\n",
       "      <td id=\"T_b9d3d_row10_col6\" class=\"data row10 col6\" >0.7732</td>\n",
       "    </tr>\n",
       "    <tr>\n",
       "      <th id=\"T_b9d3d_level0_row11\" class=\"row_heading level0 row11\" >Std</th>\n",
       "      <td id=\"T_b9d3d_row11_col0\" class=\"data row11 col0\" >0.0054</td>\n",
       "      <td id=\"T_b9d3d_row11_col1\" class=\"data row11 col1\" >0.0044</td>\n",
       "      <td id=\"T_b9d3d_row11_col2\" class=\"data row11 col2\" >0.0051</td>\n",
       "      <td id=\"T_b9d3d_row11_col3\" class=\"data row11 col3\" >0.0078</td>\n",
       "      <td id=\"T_b9d3d_row11_col4\" class=\"data row11 col4\" >0.0050</td>\n",
       "      <td id=\"T_b9d3d_row11_col5\" class=\"data row11 col5\" >0.0107</td>\n",
       "      <td id=\"T_b9d3d_row11_col6\" class=\"data row11 col6\" >0.0106</td>\n",
       "    </tr>\n",
       "  </tbody>\n",
       "</table>\n"
      ],
      "text/plain": [
       "<pandas.io.formats.style.Styler at 0x2170f286710>"
      ]
     },
     "metadata": {},
     "output_type": "display_data"
    },
    {
     "data": {
      "text/html": [],
      "text/plain": [
       "<IPython.core.display.HTML object>"
      ]
     },
     "metadata": {},
     "output_type": "display_data"
    },
    {
     "name": "stdout",
     "output_type": "stream",
     "text": [
      "Fitting 10 folds for each of 10 candidates, totalling 100 fits\n",
      "Original model was better than the tuned model, hence it will be returned. NOTE: The display metrics are for the tuned model (not the original one).\n"
     ]
    }
   ],
   "source": [
    "tuned_model = tune_model(best_model, optimize='AUC')"
   ]
  },
  {
   "cell_type": "code",
   "execution_count": 55,
   "metadata": {},
   "outputs": [],
   "source": [
    "final_model = finalize_model(tuned_model)"
   ]
  },
  {
   "cell_type": "code",
   "execution_count": 73,
   "metadata": {},
   "outputs": [
    {
     "data": {
      "text/html": [],
      "text/plain": [
       "<IPython.core.display.HTML object>"
      ]
     },
     "metadata": {},
     "output_type": "display_data"
    }
   ],
   "source": [
    "# 1. Process the test data using the preprocessor\n",
    "X_test_processed = preprocessor.transform(X_test)\n",
    "\n",
    "# 2. Predict using the final model\n",
    "predictions = predict_model(final_model,\n",
    "                            data=pd.DataFrame(X_test_processed.todense(),\n",
    "                                              columns = [f'feature_{i}' for i in range(1, 45)]))"
   ]
  },
  {
   "cell_type": "code",
   "execution_count": 129,
   "metadata": {},
   "outputs": [
    {
     "name": "stdout",
     "output_type": "stream",
     "text": [
      "              precision    recall  f1-score   support\n",
      "\n",
      "           0       0.96      0.97      0.96      7424\n",
      "           1       0.53      0.41      0.46       576\n",
      "\n",
      "    accuracy                           0.93      8000\n",
      "   macro avg       0.74      0.69      0.71      8000\n",
      "weighted avg       0.92      0.93      0.93      8000\n",
      "\n",
      "0.6929178639846744\n"
     ]
    },
    {
     "data": {
      "text/plain": [
       "array([[7208,  216],\n",
       "       [ 337,  239]], dtype=int64)"
      ]
     },
     "execution_count": 129,
     "metadata": {},
     "output_type": "execute_result"
    }
   ],
   "source": [
    "# 3. Evaluate the model\n",
    "from sklearn.metrics import classification_report, roc_auc_score\n",
    "\n",
    "print(classification_report(y_test, predictions['prediction_label']))\n",
    "print(roc_auc_score(y_test, predictions['prediction_label']))\n",
    "\n",
    "confusion_matrix(y_test, predictions['prediction_label'])\n",
    "# Save the final model\n",
    "# save_model(final_model, '../models/term_deposit_model')"
   ]
  },
  {
   "cell_type": "markdown",
   "metadata": {},
   "source": [
    "## TPOT\n",
    "\n",
    "Exploring different models with TPOT"
   ]
  },
  {
   "cell_type": "code",
   "execution_count": 112,
   "metadata": {},
   "outputs": [
    {
     "name": "stdout",
     "output_type": "stream",
     "text": [
      "0.9438088369552203\n"
     ]
    }
   ],
   "source": [
    "# Tpot model\n",
    "from tpot import TPOTClassifier\n",
    "\n",
    "\n",
    "tpot = TPOTClassifier(generations=5, population_size=20, verbosity=2,\n",
    "                      random_state=42, scoring='roc_auc_ovo_weighted')\n",
    "\n",
    "tpot.fit(df_train_balanced, y_train_balanced, use_dask=True)\n",
    "\n",
    "print(tpot.score(df_test_processed, y_test))\n",
    "\n",
    "tpot.export('../models/tpot_term_deposit_pipeline.py')"
   ]
  },
  {
   "cell_type": "code",
   "execution_count": 123,
   "metadata": {},
   "outputs": [
    {
     "data": {
      "text/plain": [
       "0.9438088369552203"
      ]
     },
     "execution_count": 123,
     "metadata": {},
     "output_type": "execute_result"
    }
   ],
   "source": [
    "tpot.score(df_test_processed, y_test)"
   ]
  },
  {
   "cell_type": "code",
   "execution_count": 1,
   "metadata": {},
   "outputs": [
    {
     "ename": "NameError",
     "evalue": "name 'tpot' is not defined",
     "output_type": "error",
     "traceback": [
      "\u001b[1;31m---------------------------------------------------------------------------\u001b[0m",
      "\u001b[1;31mNameError\u001b[0m                                 Traceback (most recent call last)",
      "Cell \u001b[1;32mIn[1], line 1\u001b[0m\n\u001b[1;32m----> 1\u001b[0m \u001b[43mtpot\u001b[49m\u001b[38;5;241m.\u001b[39mfeature_importances_\n",
      "\u001b[1;31mNameError\u001b[0m: name 'tpot' is not defined"
     ]
    }
   ],
   "source": [
    "tpot.feature_importances_"
   ]
  },
  {
   "cell_type": "code",
   "execution_count": 126,
   "metadata": {},
   "outputs": [
    {
     "name": "stdout",
     "output_type": "stream",
     "text": [
      "Classification Report:\n",
      "               precision    recall  f1-score   support\n",
      "\n",
      "           0       0.97      0.96      0.96      7424\n",
      "           1       0.51      0.56      0.53       576\n",
      "\n",
      "    accuracy                           0.93      8000\n",
      "   macro avg       0.74      0.76      0.75      8000\n",
      "weighted avg       0.93      0.93      0.93      8000\n",
      "\n"
     ]
    },
    {
     "data": {
      "text/plain": [
       "array([[7119,  305],\n",
       "       [ 256,  320]], dtype=int64)"
      ]
     },
     "execution_count": 126,
     "metadata": {},
     "output_type": "execute_result"
    }
   ],
   "source": [
    "# Predict the labels for the test set\n",
    "y_pred = tpot.predict(df_test_processed)\n",
    "\n",
    "# Generate and print the classification report\n",
    "report = classification_report(y_test, y_pred)\n",
    "print(\"Classification Report:\\n\", report)\n",
    "\n",
    "# confussion matrix\n",
    "from sklearn.metrics import confusion_matrix\n",
    "\n",
    "confusion_matrix(y_test, y_pred)"
   ]
  },
  {
   "cell_type": "markdown",
   "metadata": {},
   "source": [
    "## H2O"
   ]
  },
  {
   "cell_type": "code",
   "execution_count": 227,
   "metadata": {},
   "outputs": [
    {
     "name": "stdout",
     "output_type": "stream",
     "text": [
      "Checking whether there is an H2O instance running at http://localhost:54321. connected.\n"
     ]
    },
    {
     "data": {
      "text/html": [
       "\n",
       "<style>\n",
       "\n",
       "#h2o-table-18.h2o-container {\n",
       "  overflow-x: auto;\n",
       "}\n",
       "#h2o-table-18 .h2o-table {\n",
       "  /* width: 100%; */\n",
       "  margin-top: 1em;\n",
       "  margin-bottom: 1em;\n",
       "}\n",
       "#h2o-table-18 .h2o-table caption {\n",
       "  white-space: nowrap;\n",
       "  caption-side: top;\n",
       "  text-align: left;\n",
       "  /* margin-left: 1em; */\n",
       "  margin: 0;\n",
       "  font-size: larger;\n",
       "}\n",
       "#h2o-table-18 .h2o-table thead {\n",
       "  white-space: nowrap; \n",
       "  position: sticky;\n",
       "  top: 0;\n",
       "  box-shadow: 0 -1px inset;\n",
       "}\n",
       "#h2o-table-18 .h2o-table tbody {\n",
       "  overflow: auto;\n",
       "}\n",
       "#h2o-table-18 .h2o-table th,\n",
       "#h2o-table-18 .h2o-table td {\n",
       "  text-align: right;\n",
       "  /* border: 1px solid; */\n",
       "}\n",
       "#h2o-table-18 .h2o-table tr:nth-child(even) {\n",
       "  /* background: #F5F5F5 */\n",
       "}\n",
       "\n",
       "</style>      \n",
       "<div id=\"h2o-table-18\" class=\"h2o-container\">\n",
       "  <table class=\"h2o-table\">\n",
       "    <caption></caption>\n",
       "    <thead></thead>\n",
       "    <tbody><tr><td>H2O_cluster_uptime:</td>\n",
       "<td>9 hours 18 mins</td></tr>\n",
       "<tr><td>H2O_cluster_timezone:</td>\n",
       "<td>America/Mexico_City</td></tr>\n",
       "<tr><td>H2O_data_parsing_timezone:</td>\n",
       "<td>UTC</td></tr>\n",
       "<tr><td>H2O_cluster_version:</td>\n",
       "<td>3.46.0.5</td></tr>\n",
       "<tr><td>H2O_cluster_version_age:</td>\n",
       "<td>2 days</td></tr>\n",
       "<tr><td>H2O_cluster_name:</td>\n",
       "<td>H2O_from_python_Guill_ue6mzn</td></tr>\n",
       "<tr><td>H2O_cluster_total_nodes:</td>\n",
       "<td>1</td></tr>\n",
       "<tr><td>H2O_cluster_free_memory:</td>\n",
       "<td>7.545 Gb</td></tr>\n",
       "<tr><td>H2O_cluster_total_cores:</td>\n",
       "<td>16</td></tr>\n",
       "<tr><td>H2O_cluster_allowed_cores:</td>\n",
       "<td>16</td></tr>\n",
       "<tr><td>H2O_cluster_status:</td>\n",
       "<td>locked, healthy</td></tr>\n",
       "<tr><td>H2O_connection_url:</td>\n",
       "<td>http://localhost:54321</td></tr>\n",
       "<tr><td>H2O_connection_proxy:</td>\n",
       "<td>{\"http\": null, \"https\": null}</td></tr>\n",
       "<tr><td>H2O_internal_security:</td>\n",
       "<td>False</td></tr>\n",
       "<tr><td>Python_version:</td>\n",
       "<td>3.10.14 final</td></tr></tbody>\n",
       "  </table>\n",
       "</div>\n"
      ],
      "text/plain": [
       "--------------------------  -----------------------------\n",
       "H2O_cluster_uptime:         9 hours 18 mins\n",
       "H2O_cluster_timezone:       America/Mexico_City\n",
       "H2O_data_parsing_timezone:  UTC\n",
       "H2O_cluster_version:        3.46.0.5\n",
       "H2O_cluster_version_age:    2 days\n",
       "H2O_cluster_name:           H2O_from_python_Guill_ue6mzn\n",
       "H2O_cluster_total_nodes:    1\n",
       "H2O_cluster_free_memory:    7.545 Gb\n",
       "H2O_cluster_total_cores:    16\n",
       "H2O_cluster_allowed_cores:  16\n",
       "H2O_cluster_status:         locked, healthy\n",
       "H2O_connection_url:         http://localhost:54321\n",
       "H2O_connection_proxy:       {\"http\": null, \"https\": null}\n",
       "H2O_internal_security:      False\n",
       "Python_version:             3.10.14 final\n",
       "--------------------------  -----------------------------"
      ]
     },
     "metadata": {},
     "output_type": "display_data"
    },
    {
     "name": "stdout",
     "output_type": "stream",
     "text": [
      "Parse progress: |████████████████████████████████████████████████████████████████| (done) 100%\n",
      "Parse progress: |████████████████████████████████████████████████████████████████| (done) 100%\n"
     ]
    }
   ],
   "source": [
    "import h2o\n",
    "from h2o.automl import H2OAutoML\n",
    "\n",
    "# Start the H2O cluster (locally)\n",
    "h2o.init()\n",
    "conf_H2O = config['settings'].get('H2O')\n",
    "\n",
    "# Convert your balanced train data to H2OFrame\n",
    "x = df_train_balanced.columns\n",
    "y = 'target'\n",
    "df_train_balanced[y] = y_train_balanced\n",
    "df_test_processed[y] = y_test\n",
    "\n",
    "# Convert your data\n",
    "train = h2o.H2OFrame(df_train_balanced)\n",
    "test = h2o.H2OFrame(df_test_processed)\n",
    "\n",
    "# Ensure response is a factor for binary classification\n",
    "train[y] = train[y].asfactor()\n",
    "test[y] = test[y].asfactor()"
   ]
  },
  {
   "cell_type": "code",
   "execution_count": 234,
   "metadata": {},
   "outputs": [
    {
     "data": {
      "text/markdown": [
       "## AutoML Leaderboard"
      ],
      "text/plain": [
       "<IPython.core.display.Markdown object>"
      ]
     },
     "metadata": {},
     "output_type": "display_data"
    },
    {
     "data": {
      "text/html": [
       "<table class='dataframe'>\n",
       "<thead>\n",
       "<tr><th>model_id                                              </th><th style=\"text-align: right;\">     auc</th><th style=\"text-align: right;\">  logloss</th><th style=\"text-align: right;\">   aucpr</th><th style=\"text-align: right;\">  mean_per_class_error</th><th style=\"text-align: right;\">    rmse</th><th style=\"text-align: right;\">      mse</th></tr>\n",
       "</thead>\n",
       "<tbody>\n",
       "<tr><td>StackedEnsemble_AllModels_1_AutoML_1_20240901_02633   </td><td style=\"text-align: right;\">0.997767</td><td style=\"text-align: right;\">0.0616004</td><td style=\"text-align: right;\">0.99787 </td><td style=\"text-align: right;\">             0.0252554</td><td style=\"text-align: right;\">0.135385</td><td style=\"text-align: right;\">0.018329 </td></tr>\n",
       "<tr><td>StackedEnsemble_BestOfFamily_1_AutoML_1_20240901_02633</td><td style=\"text-align: right;\">0.997611</td><td style=\"text-align: right;\">0.0640649</td><td style=\"text-align: right;\">0.997667</td><td style=\"text-align: right;\">             0.024952 </td><td style=\"text-align: right;\">0.136746</td><td style=\"text-align: right;\">0.0186996</td></tr>\n",
       "<tr><td>GBM_grid_1_AutoML_1_20240901_02633_model_5            </td><td style=\"text-align: right;\">0.997564</td><td style=\"text-align: right;\">0.0687213</td><td style=\"text-align: right;\">0.997619</td><td style=\"text-align: right;\">             0.0254915</td><td style=\"text-align: right;\">0.142319</td><td style=\"text-align: right;\">0.0202547</td></tr>\n",
       "<tr><td>GBM_grid_1_AutoML_1_20240901_02633_model_1            </td><td style=\"text-align: right;\">0.997237</td><td style=\"text-align: right;\">0.0676257</td><td style=\"text-align: right;\">0.997407</td><td style=\"text-align: right;\">             0.0274303</td><td style=\"text-align: right;\">0.141003</td><td style=\"text-align: right;\">0.019882 </td></tr>\n",
       "<tr><td>GBM_grid_1_AutoML_1_20240901_02633_model_4            </td><td style=\"text-align: right;\">0.99719 </td><td style=\"text-align: right;\">0.0675724</td><td style=\"text-align: right;\">0.99737 </td><td style=\"text-align: right;\">             0.0282058</td><td style=\"text-align: right;\">0.142434</td><td style=\"text-align: right;\">0.0202873</td></tr>\n",
       "<tr><td>GBM_4_AutoML_1_20240901_02633                         </td><td style=\"text-align: right;\">0.997093</td><td style=\"text-align: right;\">0.0706389</td><td style=\"text-align: right;\">0.997237</td><td style=\"text-align: right;\">             0.0284081</td><td style=\"text-align: right;\">0.145338</td><td style=\"text-align: right;\">0.021123 </td></tr>\n",
       "<tr><td>GBM_1_AutoML_1_20240901_02633                         </td><td style=\"text-align: right;\">0.996886</td><td style=\"text-align: right;\">0.0723143</td><td style=\"text-align: right;\">0.997038</td><td style=\"text-align: right;\">             0.0301109</td><td style=\"text-align: right;\">0.147442</td><td style=\"text-align: right;\">0.0217392</td></tr>\n",
       "<tr><td>GBM_3_AutoML_1_20240901_02633                         </td><td style=\"text-align: right;\">0.996695</td><td style=\"text-align: right;\">0.0742823</td><td style=\"text-align: right;\">0.9969  </td><td style=\"text-align: right;\">             0.0304818</td><td style=\"text-align: right;\">0.148807</td><td style=\"text-align: right;\">0.0221436</td></tr>\n",
       "<tr><td>GBM_2_AutoML_1_20240901_02633                         </td><td style=\"text-align: right;\">0.996465</td><td style=\"text-align: right;\">0.0770773</td><td style=\"text-align: right;\">0.996691</td><td style=\"text-align: right;\">             0.0314091</td><td style=\"text-align: right;\">0.151349</td><td style=\"text-align: right;\">0.0229066</td></tr>\n",
       "<tr><td>GBM_5_AutoML_1_20240901_02633                         </td><td style=\"text-align: right;\">0.99618 </td><td style=\"text-align: right;\">0.0801592</td><td style=\"text-align: right;\">0.996411</td><td style=\"text-align: right;\">             0.032387 </td><td style=\"text-align: right;\">0.153763</td><td style=\"text-align: right;\">0.0236431</td></tr>\n",
       "<tr><td>GBM_grid_1_AutoML_1_20240901_02633_model_3            </td><td style=\"text-align: right;\">0.995988</td><td style=\"text-align: right;\">0.0825357</td><td style=\"text-align: right;\">0.996234</td><td style=\"text-align: right;\">             0.0336514</td><td style=\"text-align: right;\">0.156272</td><td style=\"text-align: right;\">0.0244208</td></tr>\n",
       "<tr><td>GBM_grid_1_AutoML_1_20240901_02633_model_2            </td><td style=\"text-align: right;\">0.995781</td><td style=\"text-align: right;\">0.0845933</td><td style=\"text-align: right;\">0.996092</td><td style=\"text-align: right;\">             0.0352699</td><td style=\"text-align: right;\">0.157673</td><td style=\"text-align: right;\">0.0248607</td></tr>\n",
       "<tr><td>DRF_1_AutoML_1_20240901_02633                         </td><td style=\"text-align: right;\">0.994677</td><td style=\"text-align: right;\">0.129665 </td><td style=\"text-align: right;\">0.99436 </td><td style=\"text-align: right;\">             0.0350845</td><td style=\"text-align: right;\">0.179354</td><td style=\"text-align: right;\">0.0321678</td></tr>\n",
       "<tr><td>XRT_1_AutoML_1_20240901_02633                         </td><td style=\"text-align: right;\">0.994582</td><td style=\"text-align: right;\">0.133423 </td><td style=\"text-align: right;\">0.994251</td><td style=\"text-align: right;\">             0.0356745</td><td style=\"text-align: right;\">0.1814  </td><td style=\"text-align: right;\">0.032906 </td></tr>\n",
       "<tr><td>DeepLearning_grid_3_AutoML_1_20240901_02633_model_1   </td><td style=\"text-align: right;\">0.956578</td><td style=\"text-align: right;\">0.284772 </td><td style=\"text-align: right;\">0.934097</td><td style=\"text-align: right;\">             0.0893887</td><td style=\"text-align: right;\">0.264946</td><td style=\"text-align: right;\">0.0701966</td></tr>\n",
       "<tr><td>DeepLearning_grid_2_AutoML_1_20240901_02633_model_1   </td><td style=\"text-align: right;\">0.954831</td><td style=\"text-align: right;\">0.283454 </td><td style=\"text-align: right;\">0.934563</td><td style=\"text-align: right;\">             0.0933506</td><td style=\"text-align: right;\">0.277603</td><td style=\"text-align: right;\">0.0770632</td></tr>\n",
       "<tr><td>DeepLearning_grid_1_AutoML_1_20240901_02633_model_2   </td><td style=\"text-align: right;\">0.948535</td><td style=\"text-align: right;\">0.443421 </td><td style=\"text-align: right;\">0.923166</td><td style=\"text-align: right;\">             0.09942  </td><td style=\"text-align: right;\">0.343793</td><td style=\"text-align: right;\">0.118194 </td></tr>\n",
       "<tr><td>DeepLearning_grid_1_AutoML_1_20240901_02633_model_1   </td><td style=\"text-align: right;\">0.948329</td><td style=\"text-align: right;\">0.35617  </td><td style=\"text-align: right;\">0.927729</td><td style=\"text-align: right;\">             0.107529 </td><td style=\"text-align: right;\">0.314245</td><td style=\"text-align: right;\">0.0987502</td></tr>\n",
       "<tr><td>GLM_1_AutoML_1_20240901_02633                         </td><td style=\"text-align: right;\">0.939518</td><td style=\"text-align: right;\">0.329653 </td><td style=\"text-align: right;\">0.917411</td><td style=\"text-align: right;\">             0.115723 </td><td style=\"text-align: right;\">0.304045</td><td style=\"text-align: right;\">0.0924436</td></tr>\n",
       "<tr><td>DeepLearning_grid_3_AutoML_1_20240901_02633_model_2   </td><td style=\"text-align: right;\">0.934215</td><td style=\"text-align: right;\">0.385897 </td><td style=\"text-align: right;\">0.907909</td><td style=\"text-align: right;\">             0.1195   </td><td style=\"text-align: right;\">0.35364 </td><td style=\"text-align: right;\">0.125061 </td></tr>\n",
       "<tr><td>DeepLearning_1_AutoML_1_20240901_02633                </td><td style=\"text-align: right;\">0.908801</td><td style=\"text-align: right;\">0.418818 </td><td style=\"text-align: right;\">0.88725 </td><td style=\"text-align: right;\">             0.166335 </td><td style=\"text-align: right;\">0.359376</td><td style=\"text-align: right;\">0.129151 </td></tr>\n",
       "<tr><td>DeepLearning_grid_2_AutoML_1_20240901_02633_model_2   </td><td style=\"text-align: right;\">0.88663 </td><td style=\"text-align: right;\">0.440063 </td><td style=\"text-align: right;\">0.86241 </td><td style=\"text-align: right;\">             0.174714 </td><td style=\"text-align: right;\">0.381074</td><td style=\"text-align: right;\">0.145217 </td></tr>\n",
       "</tbody>\n",
       "</table><pre style='font-size: smaller; margin-bottom: 1em;'>[22 rows x 7 columns]</pre>"
      ],
      "text/plain": [
       "model_id                                                     auc    logloss     aucpr    mean_per_class_error      rmse        mse\n",
       "------------------------------------------------------  --------  ---------  --------  ----------------------  --------  ---------\n",
       "StackedEnsemble_AllModels_1_AutoML_1_20240901_02633     0.997767  0.0616004  0.99787                0.0252554  0.135385  0.018329\n",
       "StackedEnsemble_BestOfFamily_1_AutoML_1_20240901_02633  0.997611  0.0640649  0.997667               0.024952   0.136746  0.0186996\n",
       "GBM_grid_1_AutoML_1_20240901_02633_model_5              0.997564  0.0687213  0.997619               0.0254915  0.142319  0.0202547\n",
       "GBM_grid_1_AutoML_1_20240901_02633_model_1              0.997237  0.0676257  0.997407               0.0274303  0.141003  0.019882\n",
       "GBM_grid_1_AutoML_1_20240901_02633_model_4              0.99719   0.0675724  0.99737                0.0282058  0.142434  0.0202873\n",
       "GBM_4_AutoML_1_20240901_02633                           0.997093  0.0706389  0.997237               0.0284081  0.145338  0.021123\n",
       "GBM_1_AutoML_1_20240901_02633                           0.996886  0.0723143  0.997038               0.0301109  0.147442  0.0217392\n",
       "GBM_3_AutoML_1_20240901_02633                           0.996695  0.0742823  0.9969                 0.0304818  0.148807  0.0221436\n",
       "GBM_2_AutoML_1_20240901_02633                           0.996465  0.0770773  0.996691               0.0314091  0.151349  0.0229066\n",
       "GBM_5_AutoML_1_20240901_02633                           0.99618   0.0801592  0.996411               0.032387   0.153763  0.0236431\n",
       "GBM_grid_1_AutoML_1_20240901_02633_model_3              0.995988  0.0825357  0.996234               0.0336514  0.156272  0.0244208\n",
       "GBM_grid_1_AutoML_1_20240901_02633_model_2              0.995781  0.0845933  0.996092               0.0352699  0.157673  0.0248607\n",
       "DRF_1_AutoML_1_20240901_02633                           0.994677  0.129665   0.99436                0.0350845  0.179354  0.0321678\n",
       "XRT_1_AutoML_1_20240901_02633                           0.994582  0.133423   0.994251               0.0356745  0.1814    0.032906\n",
       "DeepLearning_grid_3_AutoML_1_20240901_02633_model_1     0.956578  0.284772   0.934097               0.0893887  0.264946  0.0701966\n",
       "DeepLearning_grid_2_AutoML_1_20240901_02633_model_1     0.954831  0.283454   0.934563               0.0933506  0.277603  0.0770632\n",
       "DeepLearning_grid_1_AutoML_1_20240901_02633_model_2     0.948535  0.443421   0.923166               0.09942    0.343793  0.118194\n",
       "DeepLearning_grid_1_AutoML_1_20240901_02633_model_1     0.948329  0.35617    0.927729               0.107529   0.314245  0.0987502\n",
       "GLM_1_AutoML_1_20240901_02633                           0.939518  0.329653   0.917411               0.115723   0.304045  0.0924436\n",
       "DeepLearning_grid_3_AutoML_1_20240901_02633_model_2     0.934215  0.385897   0.907909               0.1195     0.35364   0.125061\n",
       "DeepLearning_1_AutoML_1_20240901_02633                  0.908801  0.418818   0.88725                0.166335   0.359376  0.129151\n",
       "DeepLearning_grid_2_AutoML_1_20240901_02633_model_2     0.88663   0.440063   0.86241                0.174714   0.381074  0.145217\n",
       "[22 rows x 7 columns]\n"
      ]
     },
     "metadata": {},
     "output_type": "display_data"
    },
    {
     "ename": "AttributeError",
     "evalue": "'NoneType' object has no attribute 'predict'",
     "output_type": "error",
     "traceback": [
      "\u001b[1;31m---------------------------------------------------------------------------\u001b[0m",
      "\u001b[1;31mAttributeError\u001b[0m                            Traceback (most recent call last)",
      "Cell \u001b[1;32mIn[234], line 12\u001b[0m\n\u001b[0;32m      9\u001b[0m display(lb\u001b[38;5;241m.\u001b[39mhead(rows\u001b[38;5;241m=\u001b[39mlb\u001b[38;5;241m.\u001b[39mnrows))\n\u001b[0;32m     11\u001b[0m \u001b[38;5;66;03m# Make predictions on the test set\u001b[39;00m\n\u001b[1;32m---> 12\u001b[0m predictions \u001b[38;5;241m=\u001b[39m \u001b[43maml\u001b[49m\u001b[38;5;241;43m.\u001b[39;49m\u001b[43mleader\u001b[49m\u001b[38;5;241;43m.\u001b[39;49m\u001b[43mpredict\u001b[49m(h2o\u001b[38;5;241m.\u001b[39mH2OFrame(df_test_processed))\n\u001b[0;32m     13\u001b[0m display(Markdown(\u001b[38;5;124m'\u001b[39m\u001b[38;5;124m## Predictions\u001b[39m\u001b[38;5;124m'\u001b[39m))\n\u001b[0;32m     14\u001b[0m display(predictions\u001b[38;5;241m.\u001b[39mhead())\n",
      "\u001b[1;31mAttributeError\u001b[0m: 'NoneType' object has no attribute 'predict'"
     ]
    }
   ],
   "source": [
    "# Run AutoML for 20 base models\n",
    "aml = H2OAutoML(**conf_H2O)\n",
    "aml.train(x=x, y=y, training_frame=train)\n",
    "\n",
    "# View the AutoML Leaderboard\n",
    "# lb = aml.leaderboard\n",
    "lb = lb.sort(\"auc\", ascending=False)\n",
    "display(Markdown('## AutoML Leaderboard'))\n",
    "display(lb.head(rows=lb.nrows))\n",
    "\n",
    "# Make predictions on the test set\n",
    "predictions = aml.leader.predict(h2o.H2OFrame(df_test_processed))\n",
    "display(Markdown('## Predictions'))\n",
    "display(predictions.head())"
   ]
  },
  {
   "cell_type": "code",
   "execution_count": null,
   "metadata": {},
   "outputs": [],
   "source": [
    "h2o.H2OFrame(df_test_processed.assign(target=y_test))"
   ]
  },
  {
   "cell_type": "code",
   "execution_count": 218,
   "metadata": {},
   "outputs": [
    {
     "name": "stdout",
     "output_type": "stream",
     "text": [
      "Parse progress: |████████████████████████████████████████████████████████████████| (done) 100%\n"
     ]
    },
    {
     "ename": "OSError",
     "evalue": "Job with key $03017f00000132d4ffffffff$_b3212a25e4309573412ce2a71f6a46c4 failed with an exception: java.lang.IllegalArgumentException: Test/Validation dataset has a categorical response column 'target' with no levels in common with the model\nstacktrace: \njava.lang.IllegalArgumentException: Test/Validation dataset has a categorical response column 'target' with no levels in common with the model\r\n\tat hex.Model.adaptTestForTrain(Model.java:1825)\r\n\tat hex.Model.adaptTestForTrain(Model.java:1643)\r\n\tat hex.Model.adaptTestForTrain(Model.java:1639)\r\n\tat hex.Model.adaptFrameForScore(Model.java:1981)\r\n\tat hex.Model.score(Model.java:1999)\r\n\tat water.api.ModelMetricsHandler$1.compute2(ModelMetricsHandler.java:555)\r\n\tat water.H2O$H2OCountedCompleter.compute(H2O.java:1704)\r\n\tat jsr166y.CountedCompleter.exec(CountedCompleter.java:468)\r\n\tat jsr166y.ForkJoinTask.doExec(ForkJoinTask.java:263)\r\n\tat jsr166y.ForkJoinPool$WorkQueue.runTask(ForkJoinPool.java:976)\r\n\tat jsr166y.ForkJoinPool.runWorker(ForkJoinPool.java:1479)\r\n\tat jsr166y.ForkJoinWorkerThread.run(ForkJoinWorkerThread.java:104)\r\n",
     "output_type": "error",
     "traceback": [
      "\u001b[1;31m---------------------------------------------------------------------------\u001b[0m",
      "\u001b[1;31mOSError\u001b[0m                                   Traceback (most recent call last)",
      "Cell \u001b[1;32mIn[218], line 1\u001b[0m\n\u001b[1;32m----> 1\u001b[0m mc_plot \u001b[38;5;241m=\u001b[39m \u001b[43maml\u001b[49m\u001b[38;5;241;43m.\u001b[39;49m\u001b[43mmodel_correlation_heatmap\u001b[49m\u001b[43m(\u001b[49m\u001b[43mh2o\u001b[49m\u001b[38;5;241;43m.\u001b[39;49m\u001b[43mH2OFrame\u001b[49m\u001b[43m(\u001b[49m\u001b[43mdf_test_processed\u001b[49m\u001b[38;5;241;43m.\u001b[39;49m\u001b[43massign\u001b[49m\u001b[43m(\u001b[49m\u001b[43mtarget\u001b[49m\u001b[38;5;241;43m=\u001b[39;49m\u001b[43my_test\u001b[49m\u001b[43m)\u001b[49m\u001b[43m)\u001b[49m\u001b[43m)\u001b[49m\n\u001b[0;32m      3\u001b[0m \u001b[38;5;66;03m# or if some subset of the models is needed a slice of leaderboard can be used, e.g., using MAE as the sorting metric\u001b[39;00m\n\u001b[0;32m      4\u001b[0m mc_plot \u001b[38;5;241m=\u001b[39m h2o\u001b[38;5;241m.\u001b[39mmodel_correlation_heatmap(aml\u001b[38;5;241m.\u001b[39mleaderboard\u001b[38;5;241m.\u001b[39msort(\u001b[38;5;124m\"\u001b[39m\u001b[38;5;124mmae\u001b[39m\u001b[38;5;124m\"\u001b[39m)\u001b[38;5;241m.\u001b[39mhead(\u001b[38;5;241m10\u001b[39m), test)\n",
      "File \u001b[1;32mc:\\Users\\Guill\\miniconda3\\envs\\term_deposit\\lib\\site-packages\\h2o\\explanation\\_explain.py:2277\u001b[0m, in \u001b[0;36mmodel_correlation_heatmap\u001b[1;34m(models, frame, top_n, cluster_models, triangular, figsize, colormap, save_plot_path)\u001b[0m\n\u001b[0;32m   2275\u001b[0m \u001b[38;5;28;01mif\u001b[39;00m \u001b[38;5;28misinstance\u001b[39m(models, h2o\u001b[38;5;241m.\u001b[39mautoml\u001b[38;5;241m.\u001b[39m_base\u001b[38;5;241m.\u001b[39mH2OAutoMLBaseMixin):\n\u001b[0;32m   2276\u001b[0m     models \u001b[38;5;241m=\u001b[39m _check_deprecated_top_n_argument(models, top_n)\n\u001b[1;32m-> 2277\u001b[0m corr, model_ids \u001b[38;5;241m=\u001b[39m \u001b[43mmodel_correlation\u001b[49m\u001b[43m(\u001b[49m\u001b[43mmodels\u001b[49m\u001b[43m,\u001b[49m\u001b[43m \u001b[49m\u001b[43mframe\u001b[49m\u001b[43m,\u001b[49m\u001b[43m \u001b[49m\u001b[43mcluster_models\u001b[49m\u001b[43m,\u001b[49m\u001b[43m \u001b[49m\u001b[43muse_pandas\u001b[49m\u001b[38;5;241;43m=\u001b[39;49m\u001b[38;5;28;43;01mFalse\u001b[39;49;00m\u001b[43m)\u001b[49m\n\u001b[0;32m   2279\u001b[0m \u001b[38;5;28;01mif\u001b[39;00m triangular:\n\u001b[0;32m   2280\u001b[0m     corr \u001b[38;5;241m=\u001b[39m np\u001b[38;5;241m.\u001b[39mwhere(np\u001b[38;5;241m.\u001b[39mtriu(np\u001b[38;5;241m.\u001b[39mones_like(corr), k\u001b[38;5;241m=\u001b[39m\u001b[38;5;241m1\u001b[39m)\u001b[38;5;241m.\u001b[39mastype(\u001b[38;5;28mbool\u001b[39m), \u001b[38;5;28mfloat\u001b[39m(\u001b[38;5;124m\"\u001b[39m\u001b[38;5;124mnan\u001b[39m\u001b[38;5;124m\"\u001b[39m), corr)\n",
      "File \u001b[1;32mc:\\Users\\Guill\\miniconda3\\envs\\term_deposit\\lib\\site-packages\\h2o\\explanation\\_explain.py:2337\u001b[0m, in \u001b[0;36mmodel_correlation\u001b[1;34m(models, frame, cluster_models, use_pandas)\u001b[0m\n\u001b[0;32m   2335\u001b[0m \u001b[38;5;28;01mwith\u001b[39;00m no_progress_block():\n\u001b[0;32m   2336\u001b[0m     \u001b[38;5;28;01mfor\u001b[39;00m idx, model \u001b[38;5;129;01min\u001b[39;00m \u001b[38;5;28menumerate\u001b[39m(models):\n\u001b[1;32m-> 2337\u001b[0m         predictions\u001b[38;5;241m.\u001b[39mappend(\u001b[43mmodel\u001b[49m\u001b[38;5;241;43m.\u001b[39;49m\u001b[43mpredict\u001b[49m\u001b[43m(\u001b[49m\u001b[43mframe\u001b[49m\u001b[43m)\u001b[49m[\u001b[38;5;124m\"\u001b[39m\u001b[38;5;124mpredict\u001b[39m\u001b[38;5;124m\"\u001b[39m])\n\u001b[0;32m   2339\u001b[0m \u001b[38;5;28;01mif\u001b[39;00m is_classification:\n\u001b[0;32m   2340\u001b[0m     corr \u001b[38;5;241m=\u001b[39m np\u001b[38;5;241m.\u001b[39mzeros((\u001b[38;5;28mlen\u001b[39m(models), \u001b[38;5;28mlen\u001b[39m(models)))\n",
      "File \u001b[1;32mc:\\Users\\Guill\\miniconda3\\envs\\term_deposit\\lib\\site-packages\\h2o\\model\\model_base.py:334\u001b[0m, in \u001b[0;36mModelBase.predict\u001b[1;34m(self, test_data, custom_metric, custom_metric_func)\u001b[0m\n\u001b[0;32m    331\u001b[0m \u001b[38;5;28;01mif\u001b[39;00m \u001b[38;5;129;01mnot\u001b[39;00m \u001b[38;5;28misinstance\u001b[39m(test_data, h2o\u001b[38;5;241m.\u001b[39mH2OFrame): \u001b[38;5;28;01mraise\u001b[39;00m \u001b[38;5;167;01mValueError\u001b[39;00m(\u001b[38;5;124m\"\u001b[39m\u001b[38;5;124mtest_data must be an instance of H2OFrame\u001b[39m\u001b[38;5;124m\"\u001b[39m)\n\u001b[0;32m    332\u001b[0m j \u001b[38;5;241m=\u001b[39m H2OJob(h2o\u001b[38;5;241m.\u001b[39mapi(\u001b[38;5;124m\"\u001b[39m\u001b[38;5;124mPOST /4/Predictions/models/\u001b[39m\u001b[38;5;132;01m%s\u001b[39;00m\u001b[38;5;124m/frames/\u001b[39m\u001b[38;5;132;01m%s\u001b[39;00m\u001b[38;5;124m\"\u001b[39m \u001b[38;5;241m%\u001b[39m (\u001b[38;5;28mself\u001b[39m\u001b[38;5;241m.\u001b[39mmodel_id, test_data\u001b[38;5;241m.\u001b[39mframe_id), data \u001b[38;5;241m=\u001b[39m {\u001b[38;5;124m'\u001b[39m\u001b[38;5;124mcustom_metric_func\u001b[39m\u001b[38;5;124m'\u001b[39m: custom_metric_func}),\n\u001b[0;32m    333\u001b[0m            \u001b[38;5;28mself\u001b[39m\u001b[38;5;241m.\u001b[39m_model_json[\u001b[38;5;124m\"\u001b[39m\u001b[38;5;124malgo\u001b[39m\u001b[38;5;124m\"\u001b[39m] \u001b[38;5;241m+\u001b[39m \u001b[38;5;124m\"\u001b[39m\u001b[38;5;124m prediction\u001b[39m\u001b[38;5;124m\"\u001b[39m)\n\u001b[1;32m--> 334\u001b[0m \u001b[43mj\u001b[49m\u001b[38;5;241;43m.\u001b[39;49m\u001b[43mpoll\u001b[49m\u001b[43m(\u001b[49m\u001b[43m)\u001b[49m\n\u001b[0;32m    335\u001b[0m \u001b[38;5;28;01mreturn\u001b[39;00m h2o\u001b[38;5;241m.\u001b[39mget_frame(j\u001b[38;5;241m.\u001b[39mdest_key)\n",
      "File \u001b[1;32mc:\\Users\\Guill\\miniconda3\\envs\\term_deposit\\lib\\site-packages\\h2o\\job.py:88\u001b[0m, in \u001b[0;36mH2OJob.poll\u001b[1;34m(self, poll_updates)\u001b[0m\n\u001b[0;32m     86\u001b[0m \u001b[38;5;28;01mif\u001b[39;00m \u001b[38;5;28mself\u001b[39m\u001b[38;5;241m.\u001b[39mstatus \u001b[38;5;241m==\u001b[39m \u001b[38;5;124m\"\u001b[39m\u001b[38;5;124mFAILED\u001b[39m\u001b[38;5;124m\"\u001b[39m:\n\u001b[0;32m     87\u001b[0m     \u001b[38;5;28;01mif\u001b[39;00m (\u001b[38;5;28misinstance\u001b[39m(\u001b[38;5;28mself\u001b[39m\u001b[38;5;241m.\u001b[39mjob, \u001b[38;5;28mdict\u001b[39m)) \u001b[38;5;129;01mand\u001b[39;00m (\u001b[38;5;124m\"\u001b[39m\u001b[38;5;124mstacktrace\u001b[39m\u001b[38;5;124m\"\u001b[39m \u001b[38;5;129;01min\u001b[39;00m \u001b[38;5;28mlist\u001b[39m(\u001b[38;5;28mself\u001b[39m\u001b[38;5;241m.\u001b[39mjob)):\n\u001b[1;32m---> 88\u001b[0m         \u001b[38;5;28;01mraise\u001b[39;00m \u001b[38;5;167;01mEnvironmentError\u001b[39;00m(\u001b[38;5;124m\"\u001b[39m\u001b[38;5;124mJob with key \u001b[39m\u001b[38;5;132;01m{}\u001b[39;00m\u001b[38;5;124m failed with an exception: \u001b[39m\u001b[38;5;132;01m{}\u001b[39;00m\u001b[38;5;130;01m\\n\u001b[39;00m\u001b[38;5;124mstacktrace: \u001b[39m\u001b[38;5;124m\"\u001b[39m\n\u001b[0;32m     89\u001b[0m                                \u001b[38;5;124m\"\u001b[39m\u001b[38;5;130;01m\\n\u001b[39;00m\u001b[38;5;132;01m{}\u001b[39;00m\u001b[38;5;124m\"\u001b[39m\u001b[38;5;241m.\u001b[39mformat(\u001b[38;5;28mself\u001b[39m\u001b[38;5;241m.\u001b[39mjob_key, \u001b[38;5;28mself\u001b[39m\u001b[38;5;241m.\u001b[39mexception, \u001b[38;5;28mself\u001b[39m\u001b[38;5;241m.\u001b[39mjob[\u001b[38;5;124m\"\u001b[39m\u001b[38;5;124mstacktrace\u001b[39m\u001b[38;5;124m\"\u001b[39m]))\n\u001b[0;32m     90\u001b[0m     \u001b[38;5;28;01melse\u001b[39;00m:\n\u001b[0;32m     91\u001b[0m         \u001b[38;5;28;01mraise\u001b[39;00m \u001b[38;5;167;01mEnvironmentError\u001b[39;00m(\u001b[38;5;124m\"\u001b[39m\u001b[38;5;124mJob with key \u001b[39m\u001b[38;5;132;01m%s\u001b[39;00m\u001b[38;5;124m failed with an exception: \u001b[39m\u001b[38;5;132;01m%s\u001b[39;00m\u001b[38;5;124m\"\u001b[39m \u001b[38;5;241m%\u001b[39m (\u001b[38;5;28mself\u001b[39m\u001b[38;5;241m.\u001b[39mjob_key, \u001b[38;5;28mself\u001b[39m\u001b[38;5;241m.\u001b[39mexception))\n",
      "\u001b[1;31mOSError\u001b[0m: Job with key $03017f00000132d4ffffffff$_b3212a25e4309573412ce2a71f6a46c4 failed with an exception: java.lang.IllegalArgumentException: Test/Validation dataset has a categorical response column 'target' with no levels in common with the model\nstacktrace: \njava.lang.IllegalArgumentException: Test/Validation dataset has a categorical response column 'target' with no levels in common with the model\r\n\tat hex.Model.adaptTestForTrain(Model.java:1825)\r\n\tat hex.Model.adaptTestForTrain(Model.java:1643)\r\n\tat hex.Model.adaptTestForTrain(Model.java:1639)\r\n\tat hex.Model.adaptFrameForScore(Model.java:1981)\r\n\tat hex.Model.score(Model.java:1999)\r\n\tat water.api.ModelMetricsHandler$1.compute2(ModelMetricsHandler.java:555)\r\n\tat water.H2O$H2OCountedCompleter.compute(H2O.java:1704)\r\n\tat jsr166y.CountedCompleter.exec(CountedCompleter.java:468)\r\n\tat jsr166y.ForkJoinTask.doExec(ForkJoinTask.java:263)\r\n\tat jsr166y.ForkJoinPool$WorkQueue.runTask(ForkJoinPool.java:976)\r\n\tat jsr166y.ForkJoinPool.runWorker(ForkJoinPool.java:1479)\r\n\tat jsr166y.ForkJoinWorkerThread.run(ForkJoinWorkerThread.java:104)\r\n"
     ]
    }
   ],
   "source": [
    "mc_plot = aml.model_correlation_heatmap(h2o.H2OFrame(df_test_processed.assign(target=y_test)))\n",
    "\n",
    "# or if some subset of the models is needed a slice of leaderboard can be used, e.g., using MAE as the sorting metric\n",
    "mc_plot = h2o.model_correlation_heatmap(aml.leaderboard.sort(\"mae\").head(10), test)\n",
    "\n",
    "# or even extended leaderboard can be used\n",
    "mc_plot = h2o.model_correlation_heatmap(h2o.automl.get_leaderboard(aml, extra_columns=\"training_time_ms\").sort(\"training_time_ms\").head(10), test)\n",
    "\n",
    "# also more complicated queries on leaderboard can be used, e.g., model correlation between 5 fastest models to train and Stacked Ensembles\n",
    "leaderboard = h2o.automl.get_leaderboard(aml, extra_columns=\"training_time_ms\").sort(\"training_time_ms\")\n",
    "mc_plot = h2o.model_correlation_heatmap(leaderboard.head(5).rbind(leaderboard[leaderboard[\"model_id\"].grep(\"StackedEnsemble\", output_logical=True)]), test)"
   ]
  },
  {
   "cell_type": "code",
   "execution_count": 213,
   "metadata": {},
   "outputs": [
    {
     "name": "stdout",
     "output_type": "stream",
     "text": [
      "Parse progress: |████████████████████████████████████████████████████████████████| (done) 100%\n"
     ]
    },
    {
     "ename": "H2OResponseError",
     "evalue": "Server error java.lang.IllegalArgumentException:\n  Error: Column None not found\n  Request: POST /99/Rapids\n    data: {'ast': \"(tmp= py_18_sid_ab3e (unique (cols_py Key_Frame__upload_984acee654effc263cd4fb4f81a44444.hex 'None') False))\", 'session_id': '_sid_ab3e'}\n",
     "output_type": "error",
     "traceback": [
      "\u001b[1;31m---------------------------------------------------------------------------\u001b[0m",
      "\u001b[1;31mH2OResponseError\u001b[0m                          Traceback (most recent call last)",
      "Cell \u001b[1;32mIn[213], line 1\u001b[0m\n\u001b[1;32m----> 1\u001b[0m \u001b[43maml\u001b[49m\u001b[38;5;241;43m.\u001b[39;49m\u001b[43mleader\u001b[49m\u001b[38;5;241;43m.\u001b[39;49m\u001b[43mfair_shap_plot\u001b[49m\u001b[43m(\u001b[49m\u001b[43mframe\u001b[49m\u001b[38;5;241;43m=\u001b[39;49m\u001b[43mh2o\u001b[49m\u001b[38;5;241;43m.\u001b[39;49m\u001b[43mH2OFrame\u001b[49m\u001b[43m(\u001b[49m\u001b[43mdf_test_processed\u001b[49m\u001b[38;5;241;43m.\u001b[39;49m\u001b[43massign\u001b[49m\u001b[43m(\u001b[49m\u001b[43mtarget\u001b[49m\u001b[38;5;241;43m=\u001b[39;49m\u001b[43my_test\u001b[49m\u001b[43m)\u001b[49m\u001b[43m)\u001b[49m\u001b[43m,\u001b[49m\n\u001b[0;32m      2\u001b[0m \u001b[43m                          \u001b[49m\u001b[43mcolumn\u001b[49m\u001b[38;5;241;43m=\u001b[39;49m\u001b[38;5;124;43m'\u001b[39;49m\u001b[38;5;124;43mtarget\u001b[39;49m\u001b[38;5;124;43m'\u001b[39;49m\u001b[43m,\u001b[49m\n\u001b[0;32m      3\u001b[0m \u001b[43m                          \u001b[49m\u001b[43mprotected_columns\u001b[49m\u001b[38;5;241;43m=\u001b[39;49m\u001b[43m[\u001b[49m\u001b[38;5;124;43m\"\u001b[39;49m\u001b[38;5;124;43mNone\u001b[39;49m\u001b[38;5;124;43m\"\u001b[39;49m\u001b[43m]\u001b[49m\u001b[43m)\u001b[49m\n",
      "File \u001b[1;32mc:\\Users\\Guill\\miniconda3\\envs\\term_deposit\\lib\\site-packages\\h2o\\model\\extensions\\fairness.py:369\u001b[0m, in \u001b[0;36mFairness.fair_shap_plot\u001b[1;34m(self, frame, column, protected_columns, autoscale, figsize, jitter, alpha, save_plot_path_prefix, background_frame)\u001b[0m\n\u001b[0;32m    367\u001b[0m \u001b[38;5;28;01mfrom\u001b[39;00m \u001b[38;5;21;01mh2o\u001b[39;00m\u001b[38;5;21;01m.\u001b[39;00m\u001b[38;5;21;01mplot\u001b[39;00m \u001b[38;5;28;01mimport\u001b[39;00m get_matplotlib_pyplot\n\u001b[0;32m    368\u001b[0m plt \u001b[38;5;241m=\u001b[39m get_matplotlib_pyplot(\u001b[38;5;28;01mFalse\u001b[39;00m, raise_if_not_available\u001b[38;5;241m=\u001b[39m\u001b[38;5;28;01mTrue\u001b[39;00m)\n\u001b[1;32m--> 369\u001b[0m pgs \u001b[38;5;241m=\u001b[39m product(\u001b[38;5;241m*\u001b[39m[frame[col]\u001b[38;5;241m.\u001b[39munique()[\u001b[38;5;124m\"\u001b[39m\u001b[38;5;124mC1\u001b[39m\u001b[38;5;124m\"\u001b[39m]\u001b[38;5;241m.\u001b[39mas_data_frame(\u001b[38;5;28;01mFalse\u001b[39;00m, \u001b[38;5;28;01mFalse\u001b[39;00m) \u001b[38;5;28;01mfor\u001b[39;00m col \u001b[38;5;129;01min\u001b[39;00m protected_columns])\n\u001b[0;32m    370\u001b[0m results \u001b[38;5;241m=\u001b[39m defaultdict(\u001b[38;5;28mlist\u001b[39m)\n\u001b[0;32m    371\u001b[0m maxes \u001b[38;5;241m=\u001b[39m []\n",
      "File \u001b[1;32mc:\\Users\\Guill\\miniconda3\\envs\\term_deposit\\lib\\site-packages\\h2o\\model\\extensions\\fairness.py:369\u001b[0m, in \u001b[0;36m<listcomp>\u001b[1;34m(.0)\u001b[0m\n\u001b[0;32m    367\u001b[0m \u001b[38;5;28;01mfrom\u001b[39;00m \u001b[38;5;21;01mh2o\u001b[39;00m\u001b[38;5;21;01m.\u001b[39;00m\u001b[38;5;21;01mplot\u001b[39;00m \u001b[38;5;28;01mimport\u001b[39;00m get_matplotlib_pyplot\n\u001b[0;32m    368\u001b[0m plt \u001b[38;5;241m=\u001b[39m get_matplotlib_pyplot(\u001b[38;5;28;01mFalse\u001b[39;00m, raise_if_not_available\u001b[38;5;241m=\u001b[39m\u001b[38;5;28;01mTrue\u001b[39;00m)\n\u001b[1;32m--> 369\u001b[0m pgs \u001b[38;5;241m=\u001b[39m product(\u001b[38;5;241m*\u001b[39m[\u001b[43mframe\u001b[49m\u001b[43m[\u001b[49m\u001b[43mcol\u001b[49m\u001b[43m]\u001b[49m\u001b[38;5;241;43m.\u001b[39;49m\u001b[43munique\u001b[49m\u001b[43m(\u001b[49m\u001b[43m)\u001b[49m\u001b[43m[\u001b[49m\u001b[38;5;124;43m\"\u001b[39;49m\u001b[38;5;124;43mC1\u001b[39;49m\u001b[38;5;124;43m\"\u001b[39;49m\u001b[43m]\u001b[49m\u001b[38;5;241m.\u001b[39mas_data_frame(\u001b[38;5;28;01mFalse\u001b[39;00m, \u001b[38;5;28;01mFalse\u001b[39;00m) \u001b[38;5;28;01mfor\u001b[39;00m col \u001b[38;5;129;01min\u001b[39;00m protected_columns])\n\u001b[0;32m    370\u001b[0m results \u001b[38;5;241m=\u001b[39m defaultdict(\u001b[38;5;28mlist\u001b[39m)\n\u001b[0;32m    371\u001b[0m maxes \u001b[38;5;241m=\u001b[39m []\n",
      "File \u001b[1;32mc:\\Users\\Guill\\miniconda3\\envs\\term_deposit\\lib\\site-packages\\h2o\\frame.py:2115\u001b[0m, in \u001b[0;36mH2OFrame.__getitem__\u001b[1;34m(self, item)\u001b[0m\n\u001b[0;32m   2113\u001b[0m     item \u001b[38;5;241m=\u001b[39m normalize_slice(item, \u001b[38;5;28mself\u001b[39m\u001b[38;5;241m.\u001b[39mncols)\n\u001b[0;32m   2114\u001b[0m \u001b[38;5;28;01mif\u001b[39;00m is_type(item, \u001b[38;5;28mstr\u001b[39m, \u001b[38;5;28mint\u001b[39m, \u001b[38;5;28mlist\u001b[39m, \u001b[38;5;28mslice\u001b[39m):\n\u001b[1;32m-> 2115\u001b[0m     new_ncols, new_names, new_types, item \u001b[38;5;241m=\u001b[39m \u001b[38;5;28;43mself\u001b[39;49m\u001b[38;5;241;43m.\u001b[39;49m\u001b[43m_compute_ncol_update\u001b[49m\u001b[43m(\u001b[49m\u001b[43mitem\u001b[49m\u001b[43m)\u001b[49m\n\u001b[0;32m   2116\u001b[0m     new_nrows \u001b[38;5;241m=\u001b[39m \u001b[38;5;28mself\u001b[39m\u001b[38;5;241m.\u001b[39mnrow\n\u001b[0;32m   2117\u001b[0m     fr \u001b[38;5;241m=\u001b[39m H2OFrame\u001b[38;5;241m.\u001b[39m_expr(expr\u001b[38;5;241m=\u001b[39mExprNode(\u001b[38;5;124m\"\u001b[39m\u001b[38;5;124mcols_py\u001b[39m\u001b[38;5;124m\"\u001b[39m, \u001b[38;5;28mself\u001b[39m, item))\n",
      "File \u001b[1;32mc:\\Users\\Guill\\miniconda3\\envs\\term_deposit\\lib\\site-packages\\h2o\\frame.py:2187\u001b[0m, in \u001b[0;36mH2OFrame._compute_ncol_update\u001b[1;34m(self, item)\u001b[0m\n\u001b[0;32m   2185\u001b[0m \u001b[38;5;28;01mif\u001b[39;00m is_type(item, \u001b[38;5;28mstr\u001b[39m):\n\u001b[0;32m   2186\u001b[0m     new_names \u001b[38;5;241m=\u001b[39m [item]\n\u001b[1;32m-> 2187\u001b[0m     new_types \u001b[38;5;241m=\u001b[39m \u001b[38;5;28;01mNone\u001b[39;00m \u001b[38;5;28;01mif\u001b[39;00m item \u001b[38;5;129;01mnot\u001b[39;00m \u001b[38;5;129;01min\u001b[39;00m \u001b[38;5;28;43mself\u001b[39;49m\u001b[38;5;241;43m.\u001b[39;49m\u001b[43mtypes\u001b[49m \u001b[38;5;28;01melse\u001b[39;00m {item: \u001b[38;5;28mself\u001b[39m\u001b[38;5;241m.\u001b[39mtypes[item]}\n\u001b[0;32m   2188\u001b[0m \u001b[38;5;28;01melse\u001b[39;00m:\n\u001b[0;32m   2189\u001b[0m     new_names \u001b[38;5;241m=\u001b[39m [\u001b[38;5;28mself\u001b[39m\u001b[38;5;241m.\u001b[39mnames[item]]\n",
      "File \u001b[1;32mc:\\Users\\Guill\\miniconda3\\envs\\term_deposit\\lib\\site-packages\\h2o\\frame.py:374\u001b[0m, in \u001b[0;36mH2OFrame.types\u001b[1;34m(self)\u001b[0m\n\u001b[0;32m    372\u001b[0m \u001b[38;5;28;01mif\u001b[39;00m \u001b[38;5;129;01mnot\u001b[39;00m \u001b[38;5;28mself\u001b[39m\u001b[38;5;241m.\u001b[39m_ex\u001b[38;5;241m.\u001b[39m_cache\u001b[38;5;241m.\u001b[39mtypes_valid():\n\u001b[0;32m    373\u001b[0m     \u001b[38;5;28mself\u001b[39m\u001b[38;5;241m.\u001b[39m_ex\u001b[38;5;241m.\u001b[39m_cache\u001b[38;5;241m.\u001b[39mflush()\n\u001b[1;32m--> 374\u001b[0m     \u001b[38;5;28;43mself\u001b[39;49m\u001b[38;5;241;43m.\u001b[39;49m\u001b[43m_frame\u001b[49m\u001b[43m(\u001b[49m\u001b[43mfill_cache\u001b[49m\u001b[38;5;241;43m=\u001b[39;49m\u001b[38;5;28;43;01mTrue\u001b[39;49;00m\u001b[43m)\u001b[49m\n\u001b[0;32m    375\u001b[0m \u001b[38;5;28;01mreturn\u001b[39;00m \u001b[38;5;28mdict\u001b[39m(\u001b[38;5;28mself\u001b[39m\u001b[38;5;241m.\u001b[39m_ex\u001b[38;5;241m.\u001b[39m_cache\u001b[38;5;241m.\u001b[39mtypes)\n",
      "File \u001b[1;32mc:\\Users\\Guill\\miniconda3\\envs\\term_deposit\\lib\\site-packages\\h2o\\frame.py:582\u001b[0m, in \u001b[0;36mH2OFrame._frame\u001b[1;34m(self, rows, rows_offset, cols, cols_offset, fill_cache)\u001b[0m\n\u001b[0;32m    581\u001b[0m \u001b[38;5;28;01mdef\u001b[39;00m \u001b[38;5;21m_frame\u001b[39m(\u001b[38;5;28mself\u001b[39m, rows\u001b[38;5;241m=\u001b[39m\u001b[38;5;241m10\u001b[39m, rows_offset\u001b[38;5;241m=\u001b[39m\u001b[38;5;241m0\u001b[39m, cols\u001b[38;5;241m=\u001b[39m\u001b[38;5;241m-\u001b[39m\u001b[38;5;241m1\u001b[39m, cols_offset\u001b[38;5;241m=\u001b[39m\u001b[38;5;241m0\u001b[39m, fill_cache\u001b[38;5;241m=\u001b[39m\u001b[38;5;28;01mFalse\u001b[39;00m):\n\u001b[1;32m--> 582\u001b[0m     \u001b[38;5;28;43mself\u001b[39;49m\u001b[38;5;241;43m.\u001b[39;49m\u001b[43m_ex\u001b[49m\u001b[38;5;241;43m.\u001b[39;49m\u001b[43m_eager_frame\u001b[49m\u001b[43m(\u001b[49m\u001b[43m)\u001b[49m\n\u001b[0;32m    583\u001b[0m     \u001b[38;5;28;01mif\u001b[39;00m fill_cache:\n\u001b[0;32m    584\u001b[0m         \u001b[38;5;28mself\u001b[39m\u001b[38;5;241m.\u001b[39m_ex\u001b[38;5;241m.\u001b[39m_cache\u001b[38;5;241m.\u001b[39mfill(rows\u001b[38;5;241m=\u001b[39mrows, rows_offset\u001b[38;5;241m=\u001b[39mrows_offset, cols\u001b[38;5;241m=\u001b[39mcols, cols_offset\u001b[38;5;241m=\u001b[39mcols_offset)\n",
      "File \u001b[1;32mc:\\Users\\Guill\\miniconda3\\envs\\term_deposit\\lib\\site-packages\\h2o\\expr.py:90\u001b[0m, in \u001b[0;36mExprNode._eager_frame\u001b[1;34m(self)\u001b[0m\n\u001b[0;32m     88\u001b[0m \u001b[38;5;28;01mif\u001b[39;00m \u001b[38;5;129;01mnot\u001b[39;00m \u001b[38;5;28mself\u001b[39m\u001b[38;5;241m.\u001b[39m_cache\u001b[38;5;241m.\u001b[39mis_empty(): \u001b[38;5;28;01mreturn\u001b[39;00m\n\u001b[0;32m     89\u001b[0m \u001b[38;5;28;01mif\u001b[39;00m \u001b[38;5;28mself\u001b[39m\u001b[38;5;241m.\u001b[39m_cache\u001b[38;5;241m.\u001b[39m_id \u001b[38;5;129;01mis\u001b[39;00m \u001b[38;5;129;01mnot\u001b[39;00m \u001b[38;5;28;01mNone\u001b[39;00m: \u001b[38;5;28;01mreturn\u001b[39;00m  \u001b[38;5;66;03m# Data already computed under ID, but not cached locally\u001b[39;00m\n\u001b[1;32m---> 90\u001b[0m \u001b[38;5;28;43mself\u001b[39;49m\u001b[38;5;241;43m.\u001b[39;49m\u001b[43m_eval_driver\u001b[49m\u001b[43m(\u001b[49m\u001b[38;5;124;43m'\u001b[39;49m\u001b[38;5;124;43mframe\u001b[39;49m\u001b[38;5;124;43m'\u001b[39;49m\u001b[43m)\u001b[49m\n",
      "File \u001b[1;32mc:\\Users\\Guill\\miniconda3\\envs\\term_deposit\\lib\\site-packages\\h2o\\expr.py:114\u001b[0m, in \u001b[0;36mExprNode._eval_driver\u001b[1;34m(self, top)\u001b[0m\n\u001b[0;32m    107\u001b[0m \u001b[38;5;250m\u001b[39m\u001b[38;5;124;03m\"\"\"\u001b[39;00m\n\u001b[0;32m    108\u001b[0m \u001b[38;5;124;03m:param top: if this is a top expression (providing a final result),\u001b[39;00m\n\u001b[0;32m    109\u001b[0m \u001b[38;5;124;03m    then specifies the expected result type (accepted values = ['frame', 'scalar']),\u001b[39;00m\n\u001b[0;32m    110\u001b[0m \u001b[38;5;124;03m    or None if no object creation is expected.\u001b[39;00m\n\u001b[0;32m    111\u001b[0m \u001b[38;5;124;03m:return: self expr\u001b[39;00m\n\u001b[0;32m    112\u001b[0m \u001b[38;5;124;03m\"\"\"\u001b[39;00m\n\u001b[0;32m    113\u001b[0m exec_str \u001b[38;5;241m=\u001b[39m \u001b[38;5;28mself\u001b[39m\u001b[38;5;241m.\u001b[39m_get_ast_str(top)\n\u001b[1;32m--> 114\u001b[0m res \u001b[38;5;241m=\u001b[39m \u001b[43mExprNode\u001b[49m\u001b[38;5;241;43m.\u001b[39;49m\u001b[43mrapids\u001b[49m\u001b[43m(\u001b[49m\u001b[43mexec_str\u001b[49m\u001b[43m)\u001b[49m\n\u001b[0;32m    115\u001b[0m \u001b[38;5;28;01mif\u001b[39;00m \u001b[38;5;124m'\u001b[39m\u001b[38;5;124mscalar\u001b[39m\u001b[38;5;124m'\u001b[39m \u001b[38;5;129;01min\u001b[39;00m res:\n\u001b[0;32m    116\u001b[0m     \u001b[38;5;28;01mif\u001b[39;00m \u001b[38;5;28misinstance\u001b[39m(res[\u001b[38;5;124m'\u001b[39m\u001b[38;5;124mscalar\u001b[39m\u001b[38;5;124m'\u001b[39m], \u001b[38;5;28mlist\u001b[39m):\n",
      "File \u001b[1;32mc:\\Users\\Guill\\miniconda3\\envs\\term_deposit\\lib\\site-packages\\h2o\\expr.py:258\u001b[0m, in \u001b[0;36mExprNode.rapids\u001b[1;34m(expr)\u001b[0m\n\u001b[0;32m    249\u001b[0m \u001b[38;5;129m@staticmethod\u001b[39m\n\u001b[0;32m    250\u001b[0m \u001b[38;5;28;01mdef\u001b[39;00m \u001b[38;5;21mrapids\u001b[39m(expr):\n\u001b[0;32m    251\u001b[0m \u001b[38;5;250m    \u001b[39m\u001b[38;5;124;03m\"\"\"\u001b[39;00m\n\u001b[0;32m    252\u001b[0m \u001b[38;5;124;03m    Execute a Rapids expression.\u001b[39;00m\n\u001b[0;32m    253\u001b[0m \n\u001b[1;32m   (...)\u001b[0m\n\u001b[0;32m    256\u001b[0m \u001b[38;5;124;03m    :returns: The JSON response (as a python dictionary) of the Rapids execution\u001b[39;00m\n\u001b[0;32m    257\u001b[0m \u001b[38;5;124;03m    \"\"\"\u001b[39;00m\n\u001b[1;32m--> 258\u001b[0m     \u001b[38;5;28;01mreturn\u001b[39;00m \u001b[43mh2o\u001b[49m\u001b[38;5;241;43m.\u001b[39;49m\u001b[43mapi\u001b[49m\u001b[43m(\u001b[49m\u001b[38;5;124;43m\"\u001b[39;49m\u001b[38;5;124;43mPOST /99/Rapids\u001b[39;49m\u001b[38;5;124;43m\"\u001b[39;49m\u001b[43m,\u001b[49m\u001b[43m \u001b[49m\u001b[43mdata\u001b[49m\u001b[38;5;241;43m=\u001b[39;49m\u001b[43m{\u001b[49m\u001b[38;5;124;43m\"\u001b[39;49m\u001b[38;5;124;43mast\u001b[39;49m\u001b[38;5;124;43m\"\u001b[39;49m\u001b[43m:\u001b[49m\u001b[43m \u001b[49m\u001b[43mexpr\u001b[49m\u001b[43m,\u001b[49m\u001b[43m \u001b[49m\u001b[38;5;124;43m\"\u001b[39;49m\u001b[38;5;124;43msession_id\u001b[39;49m\u001b[38;5;124;43m\"\u001b[39;49m\u001b[43m:\u001b[49m\u001b[43m \u001b[49m\u001b[43mh2o\u001b[49m\u001b[38;5;241;43m.\u001b[39;49m\u001b[43mconnection\u001b[49m\u001b[43m(\u001b[49m\u001b[43m)\u001b[49m\u001b[38;5;241;43m.\u001b[39;49m\u001b[43msession_id\u001b[49m\u001b[43m}\u001b[49m\u001b[43m)\u001b[49m\n",
      "File \u001b[1;32mc:\\Users\\Guill\\miniconda3\\envs\\term_deposit\\lib\\site-packages\\h2o\\h2o.py:123\u001b[0m, in \u001b[0;36mapi\u001b[1;34m(endpoint, data, json, filename, save_to)\u001b[0m\n\u001b[0;32m    121\u001b[0m \u001b[38;5;66;03m# type checks are performed in H2OConnection class\u001b[39;00m\n\u001b[0;32m    122\u001b[0m _check_connection()\n\u001b[1;32m--> 123\u001b[0m \u001b[38;5;28;01mreturn\u001b[39;00m \u001b[43mh2oconn\u001b[49m\u001b[38;5;241;43m.\u001b[39;49m\u001b[43mrequest\u001b[49m\u001b[43m(\u001b[49m\u001b[43mendpoint\u001b[49m\u001b[43m,\u001b[49m\u001b[43m \u001b[49m\u001b[43mdata\u001b[49m\u001b[38;5;241;43m=\u001b[39;49m\u001b[43mdata\u001b[49m\u001b[43m,\u001b[49m\u001b[43m \u001b[49m\u001b[43mjson\u001b[49m\u001b[38;5;241;43m=\u001b[39;49m\u001b[43mjson\u001b[49m\u001b[43m,\u001b[49m\u001b[43m \u001b[49m\u001b[43mfilename\u001b[49m\u001b[38;5;241;43m=\u001b[39;49m\u001b[43mfilename\u001b[49m\u001b[43m,\u001b[49m\u001b[43m \u001b[49m\u001b[43msave_to\u001b[49m\u001b[38;5;241;43m=\u001b[39;49m\u001b[43msave_to\u001b[49m\u001b[43m)\u001b[49m\n",
      "File \u001b[1;32mc:\\Users\\Guill\\miniconda3\\envs\\term_deposit\\lib\\site-packages\\h2o\\backend\\connection.py:499\u001b[0m, in \u001b[0;36mH2OConnection.request\u001b[1;34m(self, endpoint, data, json, filename, save_to)\u001b[0m\n\u001b[0;32m    497\u001b[0m         save_to \u001b[38;5;241m=\u001b[39m save_to(resp)\n\u001b[0;32m    498\u001b[0m     \u001b[38;5;28mself\u001b[39m\u001b[38;5;241m.\u001b[39m_log_end_transaction(start_time, resp)\n\u001b[1;32m--> 499\u001b[0m     \u001b[38;5;28;01mreturn\u001b[39;00m \u001b[38;5;28;43mself\u001b[39;49m\u001b[38;5;241;43m.\u001b[39;49m\u001b[43m_process_response\u001b[49m\u001b[43m(\u001b[49m\u001b[43mresp\u001b[49m\u001b[43m,\u001b[49m\u001b[43m \u001b[49m\u001b[43msave_to\u001b[49m\u001b[43m)\u001b[49m\n\u001b[0;32m    501\u001b[0m \u001b[38;5;28;01mexcept\u001b[39;00m (requests\u001b[38;5;241m.\u001b[39mexceptions\u001b[38;5;241m.\u001b[39mConnectionError, requests\u001b[38;5;241m.\u001b[39mexceptions\u001b[38;5;241m.\u001b[39mHTTPError) \u001b[38;5;28;01mas\u001b[39;00m e:\n\u001b[0;32m    502\u001b[0m     \u001b[38;5;28;01mif\u001b[39;00m \u001b[38;5;28mself\u001b[39m\u001b[38;5;241m.\u001b[39m_local_server \u001b[38;5;129;01mand\u001b[39;00m \u001b[38;5;129;01mnot\u001b[39;00m \u001b[38;5;28mself\u001b[39m\u001b[38;5;241m.\u001b[39m_local_server\u001b[38;5;241m.\u001b[39mis_running():\n",
      "File \u001b[1;32mc:\\Users\\Guill\\miniconda3\\envs\\term_deposit\\lib\\site-packages\\h2o\\backend\\connection.py:853\u001b[0m, in \u001b[0;36mH2OConnection._process_response\u001b[1;34m(response, save_to)\u001b[0m\n\u001b[0;32m    851\u001b[0m \u001b[38;5;28;01mif\u001b[39;00m status_code \u001b[38;5;129;01min\u001b[39;00m {\u001b[38;5;241m400\u001b[39m, \u001b[38;5;241m404\u001b[39m, \u001b[38;5;241m412\u001b[39m} \u001b[38;5;129;01mand\u001b[39;00m \u001b[38;5;28misinstance\u001b[39m(data, H2OErrorV3):\n\u001b[0;32m    852\u001b[0m     data\u001b[38;5;241m.\u001b[39mshow_stacktrace \u001b[38;5;241m=\u001b[39m \u001b[38;5;28;01mFalse\u001b[39;00m\n\u001b[1;32m--> 853\u001b[0m     \u001b[38;5;28;01mraise\u001b[39;00m H2OResponseError(data)\n\u001b[0;32m    855\u001b[0m \u001b[38;5;66;03m# Server errors (notably 500 = \"Server Error\")\u001b[39;00m\n\u001b[0;32m    856\u001b[0m \u001b[38;5;66;03m# Note that it is possible to receive valid H2OErrorV3 object in this case, however it merely means the server\u001b[39;00m\n\u001b[0;32m    857\u001b[0m \u001b[38;5;66;03m# did not provide the correct status code.\u001b[39;00m\n\u001b[0;32m    858\u001b[0m \u001b[38;5;28;01mraise\u001b[39;00m H2OServerError(\u001b[38;5;124m\"\u001b[39m\u001b[38;5;124mHTTP \u001b[39m\u001b[38;5;132;01m%d\u001b[39;00m\u001b[38;5;124m \u001b[39m\u001b[38;5;132;01m%s\u001b[39;00m\u001b[38;5;124m:\u001b[39m\u001b[38;5;130;01m\\n\u001b[39;00m\u001b[38;5;132;01m%s\u001b[39;00m\u001b[38;5;124m\"\u001b[39m \u001b[38;5;241m%\u001b[39m (status_code, response\u001b[38;5;241m.\u001b[39mreason, data))\n",
      "\u001b[1;31mH2OResponseError\u001b[0m: Server error java.lang.IllegalArgumentException:\n  Error: Column None not found\n  Request: POST /99/Rapids\n    data: {'ast': \"(tmp= py_18_sid_ab3e (unique (cols_py Key_Frame__upload_984acee654effc263cd4fb4f81a44444.hex 'None') False))\", 'session_id': '_sid_ab3e'}\n"
     ]
    }
   ],
   "source": [
    "aml.leader.fair_shap_plot(frame=h2o.H2OFrame(df_test_processed.assign(target=y_test)),\n",
    "                          column='target',\n",
    "                          protected_columns=[\"None\"])"
   ]
  }
 ],
 "metadata": {
  "kernelspec": {
   "display_name": "term_deposit",
   "language": "python",
   "name": "python3"
  },
  "language_info": {
   "codemirror_mode": {
    "name": "ipython",
    "version": 3
   },
   "file_extension": ".py",
   "mimetype": "text/x-python",
   "name": "python",
   "nbconvert_exporter": "python",
   "pygments_lexer": "ipython3",
   "version": "3.10.14"
  }
 },
 "nbformat": 4,
 "nbformat_minor": 2
}
